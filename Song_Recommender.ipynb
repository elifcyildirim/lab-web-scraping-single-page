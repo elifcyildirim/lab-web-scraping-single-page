{
 "cells": [
  {
   "cell_type": "markdown",
   "id": "689e42d8",
   "metadata": {},
   "source": [
    "# Scraping a list of top 100 song lists"
   ]
  },
  {
   "cell_type": "code",
   "execution_count": 88,
   "id": "5fabea94",
   "metadata": {},
   "outputs": [],
   "source": [
    "from bs4 import BeautifulSoup\n",
    "\n",
    "import requests # allows us to access information on any page\n",
    "import pandas as pd"
   ]
  },
  {
   "cell_type": "code",
   "execution_count": 2,
   "id": "3742b28f",
   "metadata": {},
   "outputs": [],
   "source": [
    "# find a url and store it in a variable\n",
    "url= 'https://playback.fm/charts/top-100-songs/2015'"
   ]
  },
  {
   "cell_type": "code",
   "execution_count": 3,
   "id": "bf456fce",
   "metadata": {},
   "outputs": [
    {
     "data": {
      "text/plain": [
       "200"
      ]
     },
     "execution_count": 3,
     "metadata": {},
     "output_type": "execute_result"
    }
   ],
   "source": [
    "# download html with a get request\n",
    "response = requests.get(url)\n",
    "response.status_code # 200 status code means OK!"
   ]
  },
  {
   "cell_type": "code",
   "execution_count": null,
   "id": "d5c98720",
   "metadata": {},
   "outputs": [],
   "source": [
    "response.content"
   ]
  },
  {
   "cell_type": "code",
   "execution_count": 5,
   "id": "51d770d6",
   "metadata": {},
   "outputs": [],
   "source": [
    "# parse html (create the 'soup')\n",
    "soup = BeautifulSoup(response.content, \"html.parser\")"
   ]
  },
  {
   "cell_type": "code",
   "execution_count": null,
   "id": "f648bc27",
   "metadata": {},
   "outputs": [],
   "source": [
    "# check that the html code looks like it should\n",
    "soup"
   ]
  },
  {
   "cell_type": "code",
   "execution_count": null,
   "id": "8fdb7d46",
   "metadata": {},
   "outputs": [],
   "source": [
    "#myTable > tbody > tr:nth-child(1) > td.mobile-hide > a > span.song\n",
    "\n",
    "#myTable > tbody > tr:nth-child(5) > td:nth-child(2) > a"
   ]
  },
  {
   "cell_type": "code",
   "execution_count": null,
   "id": "eae69c58",
   "metadata": {},
   "outputs": [],
   "source": [
    "soup.select(\"td.mobile-hide\")"
   ]
  },
  {
   "cell_type": "code",
   "execution_count": null,
   "id": "a80c99d6",
   "metadata": {},
   "outputs": [],
   "source": [
    "soup.select(\"td:nth-child(2) > a\")"
   ]
  },
  {
   "cell_type": "code",
   "execution_count": null,
   "id": "d8d1bf80",
   "metadata": {},
   "outputs": [],
   "source": [
    "print(soup.prettify())"
   ]
  },
  {
   "cell_type": "code",
   "execution_count": 14,
   "id": "98b4fc30",
   "metadata": {},
   "outputs": [
    {
     "data": {
      "text/plain": [
       "<a class=\"artist\" href=\"/artist/mark-ronson-top-songs\" itemprop=\"byArtist\">\n",
       "Mark Ronson featuring Bruno Mars\n",
       "</a>"
      ]
     },
     "execution_count": 14,
     "metadata": {},
     "output_type": "execute_result"
    }
   ],
   "source": [
    "soup.select(\"td:nth-child(2) > a\")[0]"
   ]
  },
  {
   "cell_type": "code",
   "execution_count": 56,
   "id": "b6607e15",
   "metadata": {},
   "outputs": [
    {
     "data": {
      "text/plain": [
       "'\\nMark Ronson featuring Bruno Mars\\n'"
      ]
     },
     "execution_count": 56,
     "metadata": {},
     "output_type": "execute_result"
    }
   ],
   "source": [
    "soup.select(\"td:nth-child(2) > a\")[0].get_text()"
   ]
  },
  {
   "cell_type": "code",
   "execution_count": 58,
   "id": "f6d57e67",
   "metadata": {},
   "outputs": [
    {
     "data": {
      "text/plain": [
       "'Uptown Funk'"
      ]
     },
     "execution_count": 58,
     "metadata": {},
     "output_type": "execute_result"
    }
   ],
   "source": [
    "soup.select(\"td.mobile-hide > a > span.song\")[0].get_text()"
   ]
  },
  {
   "cell_type": "code",
   "execution_count": 59,
   "id": "62c57680",
   "metadata": {},
   "outputs": [
    {
     "name": "stdout",
     "output_type": "stream",
     "text": [
      "['\\nMark Ronson featuring Bruno Mars\\n', '\\nEd Sheeran\\n', '\\nWiz Khalifa featuring Charlie Puth\\n', '\\nFetty Wap\\n', '\\nMaroon 5\\n', '\\nWalk the Moon\\n', '\\nTaylor Swift\\n', '\\nSilentó\\n', '\\nThe Weeknd\\n', '\\nThe Weeknd\\n', '\\nOMI\\n', '\\nThe Weeknd\\n', '\\nEllie Goulding\\n', '\\nHozier\\n', '\\nTaylor Swift featuring Kendrick Lamar\\n', '\\nMajor Lazer and DJ Snake featuring MØ\\n', '\\nJason Derulo\\n', '\\nTaylor Swift\\n', '\\nSkrillex and Diplo featuring Justin Bieber\\n', '\\nRachel Platten\\n', '\\nFetty Wap featuring Remy Boyz\\n', '\\nMeghan Trainor\\n', '\\nFifth Harmony featuring Kid Ink\\n', '\\nOmarion featuring Chris Brown and Jhené Aiko\\n', '\\nAndy Grammer\\n', '\\nSam Smith\\n', '\\nSelena Gomez featuring A$AP Rocky\\n', '\\nMeghan Trainor\\n', '\\nTaylor Swift\\n', '\\nDrake\\n', '\\nDavid Guetta featuring Nicki Minaj, Bebe Rexha, and Afrojack\\n', '\\nFlo Rida featuring Sage the Gemini and Lookas\\n', '\\nJustin Bieber\\n', '\\nEd Sheeran\\n', '\\nAdele\\n', '\\nShawn Mendes\\n', '\\nTove Lo\\n', '\\nNick Jonas\\n', '\\nPitbull and Ne-Yo\\n', '\\nR. City featuring Adam Levine\\n', '\\nNatalie La Rose featuring Jeremih\\n', '\\nRihanna, Kanye West, and Paul McCartney\\n', '\\nFall Out Boy\\n', '\\nFetty Wap featuring Monty\\n', '\\nSam Hunt\\n', '\\nMaroon 5\\n', '\\nBig Sean featuring E-40\\n', '\\nRihanna\\n', '\\nRich Homie Quan\\n', '\\nT-Wayne\\n', '\\nNicki Minaj featuring Drake, Lil Wayne, and Chris Brown\\n', '\\nSia\\n', '\\nDemi Lovato\\n', '\\nX Ambassadors\\n', '\\nUsher featuring Juicy J\\n', '\\nAriana Grande and The Weeknd\\n', '\\nTaylor Swift\\n', '\\nSam Smith\\n', '\\nDJ Snake and AlunaGeorge\\n', '\\nFall Out Boy\\n', '\\nBeyoncé\\n', '\\nSelena Gomez\\n', '\\nLittle Big Town\\n', '\\nTrey Songz\\n', '\\nOne Direction\\n', '\\nNicki Minaj featuring Drake and Lil Wayne\\n', '\\nAriana Grande\\n', '\\nNick Jonas\\n', '\\nMeek Mill featuring Chris Brown and Nicki Minaj\\n', '\\nRae Sremmurd\\n', '\\nVance Joy\\n', '\\nJidenna featuring Roman GianArthur\\n', '\\nElle King\\n', '\\nMeghan Trainor\\n', '\\nCharlie Puth featuring Meghan Trainor\\n', '\\nMeghan Trainor featuring John Legend\\n', '\\nTove Lo\\n', '\\nJames Newton Howard featuring Jennifer Lawrence\\n', '\\nO.T. Genasis\\n', '\\nJessie J, Ariana Grande, and Nicki Minaj\\n', '\\nSam Smith\\n', '\\nILoveMakonnen featuring Drake\\n', '\\niLoveMemphis\\n', '\\nMacklemore and Ryan Lewis featuring Eric Nally, Melle Mel, Kool Moe Dee, and Grandmaster Caz\\n', '\\nSam Hunt\\n', '\\nChris Brown and Tyga\\n', '\\nLuke Bryan\\n', '\\nBig Sean featuring Drake\\n', '\\nGeorge Ezra\\n', '\\nSia\\n', '\\nKelly Clarkson\\n', '\\nEd Sheeran\\n', '\\nElla Henderson\\n', '\\nAlessia Cara\\n', '\\nMr Probz\\n', '\\nNicky Jam and Enrique Iglesias\\n', '\\nNe-Yo featuring Juicy J\\n', '\\nOne Direction\\n', '\\nDrake\\n', '\\nCalvin Harris and Disciples\\n']\n",
      "['Uptown Funk', 'Thinking Out Loud', 'See You Again', 'Trap Queen', 'Sugar', 'Shut Up and Dance', 'Blank Space', 'Watch Me', 'Earned It', 'The Hills', 'Cheerleader', \"Can't Feel My Face\", 'Love Me Like You Do', 'Take Me to Church', 'Bad Blood', 'Lean On', 'Want to Want Me', 'Shake It Off', 'Where Are Ü Now', 'Fight Song', '679', 'Lips Are Movin', 'Worth It', 'Post to Be', \"Honey, I'm Good.\", \"I'm Not the Only One\", 'Good for You', 'All About That Bass', 'Style', 'Hotline Bling', 'Hey Mama', 'G.D.F.R.', 'What Do You Mean?', 'Photograph', 'Hello', 'Stitches', 'Talking Body', 'Jealous', 'Time of Our Lives', 'Locked Away', 'Somebody', 'FourFiveSeconds', 'Centuries', 'My Way', 'Take Your Time', 'Animals', \"I Don't Fuck with You\", 'Bi**h Better Have My Money', 'Flex (Ooh, Ooh, Ooh)', 'Nasty Freestyle', 'Only', 'Elastic Heart', 'Cool for the Summer', 'Renegades', \"I Don't Mind\", 'Love Me Harder', 'Wildest Dreams', 'Stay with Me', 'You Know You Like It', 'Uma Thurman', '7/11/2016', 'The Heart Wants What It Wants', 'Girl Crush', 'Slow Motion', 'Drag Me Down', 'Truffle Butter', 'One Last Time', 'Chains', 'All Eyes on You', 'No Type', 'Riptide', 'Classic Man', \"Ex's & Oh's\", 'Dear Future Husband', 'Marvin Gaye', \"Like I'm Gonna Lose You\", 'Habits (Stay High)', 'The Hanging Tree', 'CoCo', 'Bang Bang', 'Lay Me Down', 'Tuesday', 'Hit the Quan', 'Downtown', 'House Party', 'Ayo', 'Kick the Dust Up', 'Blessings', 'Budapest', 'Chandelier', 'Heartbeat Song', \"Don't\", 'Ghost', 'Here', 'Waves', 'El Perdón', 'She Knows', 'Night Changes', 'Back to Back', 'How Deep Is Your Love']\n"
     ]
    }
   ],
   "source": [
    "#initialize empty lists\n",
    "artist = []\n",
    "song = []\n",
    "\n",
    "# define the number of iterations of our for loop\n",
    "# by checking how many elements are in the retrieved result set\n",
    "# (this is equivalent but more robust than just explicitly defining 250 iterations)\n",
    "num_iter = len(soup.select(\"td:nth-child(2) > a\"))\n",
    "\n",
    "tClist = soup.select(\"td:nth-child(2) > a\")\n",
    "spanlist = soup.select(\"td.mobile-hide > a > span.song\")\n",
    "# iterate through the result set and retrive all the data\n",
    "for i in range(num_iter):\n",
    "    artist.append(tClist[i].get_text())\n",
    "    song.append(spanlist[i].get_text())\n",
    "\n",
    "print(artist)\n",
    "print(song)\n"
   ]
  },
  {
   "cell_type": "code",
   "execution_count": 60,
   "id": "ffc22cff",
   "metadata": {},
   "outputs": [],
   "source": [
    "# each list becomes a column\n",
    "\n",
    "artist_song_df= pd.DataFrame({\"artist\":artist,\"song\":song})"
   ]
  },
  {
   "cell_type": "code",
   "execution_count": 61,
   "id": "7786dd5a",
   "metadata": {},
   "outputs": [
    {
     "data": {
      "text/html": [
       "<div>\n",
       "<style scoped>\n",
       "    .dataframe tbody tr th:only-of-type {\n",
       "        vertical-align: middle;\n",
       "    }\n",
       "\n",
       "    .dataframe tbody tr th {\n",
       "        vertical-align: top;\n",
       "    }\n",
       "\n",
       "    .dataframe thead th {\n",
       "        text-align: right;\n",
       "    }\n",
       "</style>\n",
       "<table border=\"1\" class=\"dataframe\">\n",
       "  <thead>\n",
       "    <tr style=\"text-align: right;\">\n",
       "      <th></th>\n",
       "      <th>artist</th>\n",
       "      <th>song</th>\n",
       "    </tr>\n",
       "  </thead>\n",
       "  <tbody>\n",
       "    <tr>\n",
       "      <th>0</th>\n",
       "      <td>\\nMark Ronson featuring Bruno Mars\\n</td>\n",
       "      <td>Uptown Funk</td>\n",
       "    </tr>\n",
       "    <tr>\n",
       "      <th>1</th>\n",
       "      <td>\\nEd Sheeran\\n</td>\n",
       "      <td>Thinking Out Loud</td>\n",
       "    </tr>\n",
       "    <tr>\n",
       "      <th>2</th>\n",
       "      <td>\\nWiz Khalifa featuring Charlie Puth\\n</td>\n",
       "      <td>See You Again</td>\n",
       "    </tr>\n",
       "    <tr>\n",
       "      <th>3</th>\n",
       "      <td>\\nFetty Wap\\n</td>\n",
       "      <td>Trap Queen</td>\n",
       "    </tr>\n",
       "    <tr>\n",
       "      <th>4</th>\n",
       "      <td>\\nMaroon 5\\n</td>\n",
       "      <td>Sugar</td>\n",
       "    </tr>\n",
       "  </tbody>\n",
       "</table>\n",
       "</div>"
      ],
      "text/plain": [
       "                                   artist               song\n",
       "0    \\nMark Ronson featuring Bruno Mars\\n        Uptown Funk\n",
       "1                          \\nEd Sheeran\\n  Thinking Out Loud\n",
       "2  \\nWiz Khalifa featuring Charlie Puth\\n      See You Again\n",
       "3                           \\nFetty Wap\\n         Trap Queen\n",
       "4                            \\nMaroon 5\\n              Sugar"
      ]
     },
     "execution_count": 61,
     "metadata": {},
     "output_type": "execute_result"
    }
   ],
   "source": [
    "artist_song_df.head()"
   ]
  },
  {
   "cell_type": "code",
   "execution_count": 64,
   "id": "1aa9041b",
   "metadata": {},
   "outputs": [],
   "source": [
    "artist_song_df['artist'] = artist_song_df['artist'].str.replace('\\n', ' ')\n"
   ]
  },
  {
   "cell_type": "code",
   "execution_count": 65,
   "id": "6d70d387",
   "metadata": {},
   "outputs": [
    {
     "data": {
      "text/html": [
       "<div>\n",
       "<style scoped>\n",
       "    .dataframe tbody tr th:only-of-type {\n",
       "        vertical-align: middle;\n",
       "    }\n",
       "\n",
       "    .dataframe tbody tr th {\n",
       "        vertical-align: top;\n",
       "    }\n",
       "\n",
       "    .dataframe thead th {\n",
       "        text-align: right;\n",
       "    }\n",
       "</style>\n",
       "<table border=\"1\" class=\"dataframe\">\n",
       "  <thead>\n",
       "    <tr style=\"text-align: right;\">\n",
       "      <th></th>\n",
       "      <th>artist</th>\n",
       "      <th>song</th>\n",
       "    </tr>\n",
       "  </thead>\n",
       "  <tbody>\n",
       "    <tr>\n",
       "      <th>0</th>\n",
       "      <td>Mark Ronson featuring Bruno Mars</td>\n",
       "      <td>Uptown Funk</td>\n",
       "    </tr>\n",
       "    <tr>\n",
       "      <th>1</th>\n",
       "      <td>Ed Sheeran</td>\n",
       "      <td>Thinking Out Loud</td>\n",
       "    </tr>\n",
       "    <tr>\n",
       "      <th>2</th>\n",
       "      <td>Wiz Khalifa featuring Charlie Puth</td>\n",
       "      <td>See You Again</td>\n",
       "    </tr>\n",
       "    <tr>\n",
       "      <th>3</th>\n",
       "      <td>Fetty Wap</td>\n",
       "      <td>Trap Queen</td>\n",
       "    </tr>\n",
       "    <tr>\n",
       "      <th>4</th>\n",
       "      <td>Maroon 5</td>\n",
       "      <td>Sugar</td>\n",
       "    </tr>\n",
       "  </tbody>\n",
       "</table>\n",
       "</div>"
      ],
      "text/plain": [
       "                                 artist               song\n",
       "0     Mark Ronson featuring Bruno Mars         Uptown Funk\n",
       "1                           Ed Sheeran   Thinking Out Loud\n",
       "2   Wiz Khalifa featuring Charlie Puth       See You Again\n",
       "3                            Fetty Wap          Trap Queen\n",
       "4                             Maroon 5               Sugar"
      ]
     },
     "execution_count": 65,
     "metadata": {},
     "output_type": "execute_result"
    }
   ],
   "source": [
    "artist_song_df.head()"
   ]
  },
  {
   "cell_type": "markdown",
   "id": "afe67012",
   "metadata": {},
   "source": [
    "# Adding 100 more songs to the df by more webscraping"
   ]
  },
  {
   "cell_type": "code",
   "execution_count": 145,
   "id": "22bd3569",
   "metadata": {},
   "outputs": [],
   "source": [
    "# find url and store it in a variable\n",
    "url= 'https://www.popvortex.com/music/charts/top-100-songs.php'"
   ]
  },
  {
   "cell_type": "code",
   "execution_count": 146,
   "id": "acd2be68",
   "metadata": {},
   "outputs": [
    {
     "data": {
      "text/plain": [
       "200"
      ]
     },
     "execution_count": 146,
     "metadata": {},
     "output_type": "execute_result"
    }
   ],
   "source": [
    "# download html with a get request\n",
    "response = requests.get(url)\n",
    "response.status_code # 200 status code means OK!"
   ]
  },
  {
   "cell_type": "code",
   "execution_count": null,
   "id": "4cfd9ad0",
   "metadata": {},
   "outputs": [],
   "source": [
    "#response.content"
   ]
  },
  {
   "cell_type": "code",
   "execution_count": 147,
   "id": "9d60d6df",
   "metadata": {},
   "outputs": [],
   "source": [
    "# parse html (create the 'soup')\n",
    "soup = BeautifulSoup(response.content, \"html.parser\")"
   ]
  },
  {
   "cell_type": "code",
   "execution_count": null,
   "id": "78f67057",
   "metadata": {},
   "outputs": [],
   "source": [
    "# check that the html code looks like it should\n",
    "soup"
   ]
  },
  {
   "cell_type": "code",
   "execution_count": null,
   "id": "e40ac761",
   "metadata": {},
   "outputs": [],
   "source": [
    "#chart-position-6 > div.chart-content.col-xs-12.col-sm-8 > p > cite\n",
    "#chart-position-6 > div.chart-content.col-xs-12.col-sm-8 > p > em"
   ]
  },
  {
   "cell_type": "code",
   "execution_count": null,
   "id": "e01c7146",
   "metadata": {},
   "outputs": [],
   "source": [
    "print(soup.prettify())"
   ]
  },
  {
   "cell_type": "code",
   "execution_count": 158,
   "id": "3f29f840",
   "metadata": {},
   "outputs": [
    {
     "data": {
      "text/plain": [
       "'Unholy'"
      ]
     },
     "execution_count": 158,
     "metadata": {},
     "output_type": "execute_result"
    }
   ],
   "source": [
    "soup.select(\"div.chart-content.col-xs-12.col-sm-8 > p > cite\")[0].get_text()"
   ]
  },
  {
   "cell_type": "code",
   "execution_count": 159,
   "id": "d89df64d",
   "metadata": {},
   "outputs": [
    {
     "data": {
      "text/plain": [
       "'Sam Smith & Kim Petras'"
      ]
     },
     "execution_count": 159,
     "metadata": {},
     "output_type": "execute_result"
    }
   ],
   "source": [
    "soup.select(\"div.chart-content.col-xs-12.col-sm-8 > p > em\")[0].get_text()"
   ]
  },
  {
   "cell_type": "code",
   "execution_count": 160,
   "id": "e71be92d",
   "metadata": {},
   "outputs": [
    {
     "name": "stdout",
     "output_type": "stream",
     "text": [
      "['Unholy', 'Eagle (feat. KB)', 'Everywhere', \"I'm Good (Blue)\", 'wait in the truck', 'A Thousand Years', 'Thank God', 'You Proof', 'Son Of A Sinner', \"I Ain't Worried\", 'Unstoppable', 'CUFF IT', 'Bedroom Singer', 'Left and Right', 'TRUCK BED', 'She Had Me At Heads Carolina', 'Wasted On You', 'here lies country music', 'As It Was', 'The Kind of Love We Make', 'Fall In Love', 'the mockingbird & THE CROW', 'Shallow', 'Under the Influence', 'Celestial', 'Lose Yourself', 'Life Is a Highway', 'Sunroof', 'Love Me Like You Do', 'Shivers', 'Super Freaky Girl', 'High Heels', 'Victoria’s Secret', 'Hold Me Closer', 'I Like You (A Happier Song) [feat. Doja Cat]', 'About Damn Time', 'Running Up That Hill (A Deal with God)', '2 Be Loved (Am I Ready)', 'Numb', 'You, Me, And Whiskey', 'Earned It', \"You'll Be In My Heart\", 'Rock and a Hard Place', 'Next Thing You Know', 'Cold Heart (PNAU Remix)', 'Soul', 'Vegas (From the Original Motion Picture Soundtrack ELVIS)', \"Something in the Orange (Z&E's Version)\", \"STAR WALKIN' (League of Legends Worlds Anthem)\", 'It Will Rain', 'Don’t Come Lookin’', 'What My World Spins Around', 'Always Remember Us This Way', 'Monster Mash', 'This Is Halloween', 'Tennessee Orange', 'Way of the Triune God (Hallelujah Version)', '500 Miles', \"Gangsta's Paradise (feat. L.V.)\", 'Bones', 'Love Me Like I Am', 'CUFF IT', 'Tennessee Whiskey', 'Something in the Orange', 'Late Night Talking', 'Bad Habit', 'Forever', 'How Do I Say Goodbye', '5 Foot 9', \"World's Smallest Violin\", 'Narco', 'Joy of My Life', 'Forget Me', 'Never Leave', 'Tití Me Preguntó', 'Take Me Home, Country Roads', 'Glimpse of Us', 'Hold My Hand', 'Half Of Me (feat. Riley Green)', 'Say My Name', 'Perfectly Loved (feat. TobyMac)', 'Country On', \"I'm Good (Blue)\", 'One Way or Another (Hocus Pocus 2 Version)', 'Over For You (Live in Melbourne)', 'God Is In This Story', \"'Til You Can't\", 'She Likes It (feat. Jake Scott)', 'No Se Va (En Vivo)', 'Tomorrow 2', 'CASE 143', 'Beer With My Friends', 'Fancy Like', 'Betty (Get Money)', 'Boulevard of Broken Dreams (feat. John Gallagher Jr., Rebecca Naomi Jones, Stark Sands & Company)', 'Ghostbusters', 'The Joke', 'The Witches Are Back', \"We Don't Talk About Bruno\", \"How Far I'll Go\"]\n",
      "['Sam Smith & Kim Petras', 'Transformation Worship', 'Fleetwood Mac', 'David Guetta & Bebe Rexha', 'HARDY & Lainey Wilson', 'Christina Perri', 'Kane Brown & Katelyn Brown', 'Morgan Wallen', 'Jelly Roll', 'OneRepublic', 'Sia', 'Beyoncé', 'J.Fla', 'Charlie Puth & Jung Kook', 'HARDY', 'Cole Swindell', 'Morgan Wallen', 'HARDY', 'Harry Styles', 'Luke Combs', 'Bailey Zimmerman', 'HARDY', 'Lady Gaga & Bradley Cooper', 'Chris Brown', 'Ed Sheeran', 'Eminem', 'Rascal Flatts', 'Nicky Youre & Dazy', 'Ellie Goulding', 'Ed Sheeran', 'Nicki Minaj', 'Flo Rida & Walker Hayes', 'Jax', 'Elton John & Britney Spears', 'Post Malone', 'Lizzo', 'Kate Bush', 'Lizzo', 'Marshmello & Khalid', 'Justin Moore & Priscilla Block', 'The Weeknd', 'Phil Collins', 'Bailey Zimmerman', 'Jordan Davis', 'Elton John & Dua Lipa', 'Lee Brice', 'Doja Cat', 'Zach Bryan', 'Lil Nas X', 'Bruno Mars', 'Jackson Dean', 'Jordan Davis', 'Lady Gaga', 'Bobby \"Boris\" Pickett & The Crypt-Kickers', 'The Citizens of Halloween', 'Megan Moroney', 'Tyler Childers', 'Rosanne Cash', 'Coolio', 'Imagine Dragons', 'for KING & COUNTRY & Jordin Sparks', 'Beyoncé', 'Chris Stapleton', 'Zach Bryan', 'Harry Styles', 'Steve Lacy', 'Drake, Kanye West, Lil Wayne & Eminem', 'Dean Lewis', 'Tyler Hubbard', 'AJR', 'Blasterjaxx & Timmy Trumpet', 'Chris Stapleton', 'Lewis Capaldi', 'Bailey Zimmerman', 'Bad Bunny', 'John Denver', 'Joji', 'Lady Gaga', 'Thomas Rhett', 'ATEEZ', 'Rachael Lampa', 'Luke Bryan', 'David Guetta & Bebe Rexha', 'Bette Midler, Sarah Jessica Parker & Kathy Najimy', 'Morgan Evans', 'Katy Nichole & Big Daddy Weave', 'Cody Johnson', 'Russell Dickerson & Jake Scott', 'Grupo Frontera', 'GloRilla & Cardi B', 'Stray Kids', 'Kenny Chesney & Old Dominion', 'Walker Hayes', 'Yung Gravy', 'Green Day', 'Ray Parker Jr.', 'Brandi Carlile', 'Bette Midler, Sarah Jessica Parker & Kathy Najimy', 'Carolina Gaitán - La Gaita, Mauro Castillo, Adassa, Rhenzy Feliz, Diane Guerrero, Stephanie Beatriz & Encanto - Cast', \"Auli'i Cravalho\"]\n"
     ]
    }
   ],
   "source": [
    "#initialize empty lists\n",
    "artist = []\n",
    "song = []\n",
    "\n",
    "# define the number of iterations of our for loop\n",
    "# by checking how many elements are in the retrieved result set\n",
    "# (this is equivalent but more robust than just explicitly defining 250 iterations)\n",
    "num_iter = len(soup.select(\"div.chart-content.col-xs-12.col-sm-8 > p > cite\"))\n",
    "\n",
    "artist_list = soup.select(\"div.chart-content.col-xs-12.col-sm-8 > p > cite\")\n",
    "song_list = soup.select(\"div.chart-content.col-xs-12.col-sm-8 > p > em\")\n",
    "# iterate through the result set and retrive all the data\n",
    "for i in range(num_iter):\n",
    "    artist.append(artist_list[i].get_text())\n",
    "    song.append(song_list[i].get_text())\n",
    "\n",
    "print(artist)\n",
    "print(song)\n"
   ]
  },
  {
   "cell_type": "code",
   "execution_count": 161,
   "id": "4ffff7bc",
   "metadata": {},
   "outputs": [],
   "source": [
    "# each list becomes a column\n",
    "\n",
    "artist_song_df_2= pd.DataFrame({\"artist\":artist,\"song\":song})"
   ]
  },
  {
   "cell_type": "code",
   "execution_count": 162,
   "id": "bc0ee62c",
   "metadata": {},
   "outputs": [
    {
     "data": {
      "text/html": [
       "<div>\n",
       "<style scoped>\n",
       "    .dataframe tbody tr th:only-of-type {\n",
       "        vertical-align: middle;\n",
       "    }\n",
       "\n",
       "    .dataframe tbody tr th {\n",
       "        vertical-align: top;\n",
       "    }\n",
       "\n",
       "    .dataframe thead th {\n",
       "        text-align: right;\n",
       "    }\n",
       "</style>\n",
       "<table border=\"1\" class=\"dataframe\">\n",
       "  <thead>\n",
       "    <tr style=\"text-align: right;\">\n",
       "      <th></th>\n",
       "      <th>artist</th>\n",
       "      <th>song</th>\n",
       "    </tr>\n",
       "  </thead>\n",
       "  <tbody>\n",
       "    <tr>\n",
       "      <th>0</th>\n",
       "      <td>Unholy</td>\n",
       "      <td>Sam Smith &amp; Kim Petras</td>\n",
       "    </tr>\n",
       "    <tr>\n",
       "      <th>1</th>\n",
       "      <td>Eagle (feat. KB)</td>\n",
       "      <td>Transformation Worship</td>\n",
       "    </tr>\n",
       "    <tr>\n",
       "      <th>2</th>\n",
       "      <td>Everywhere</td>\n",
       "      <td>Fleetwood Mac</td>\n",
       "    </tr>\n",
       "    <tr>\n",
       "      <th>3</th>\n",
       "      <td>I'm Good (Blue)</td>\n",
       "      <td>David Guetta &amp; Bebe Rexha</td>\n",
       "    </tr>\n",
       "    <tr>\n",
       "      <th>4</th>\n",
       "      <td>wait in the truck</td>\n",
       "      <td>HARDY &amp; Lainey Wilson</td>\n",
       "    </tr>\n",
       "  </tbody>\n",
       "</table>\n",
       "</div>"
      ],
      "text/plain": [
       "              artist                       song\n",
       "0             Unholy     Sam Smith & Kim Petras\n",
       "1   Eagle (feat. KB)     Transformation Worship\n",
       "2         Everywhere              Fleetwood Mac\n",
       "3    I'm Good (Blue)  David Guetta & Bebe Rexha\n",
       "4  wait in the truck      HARDY & Lainey Wilson"
      ]
     },
     "execution_count": 162,
     "metadata": {},
     "output_type": "execute_result"
    }
   ],
   "source": [
    "artist_song_df_2.head()"
   ]
  },
  {
   "cell_type": "code",
   "execution_count": 165,
   "id": "c9df5579",
   "metadata": {},
   "outputs": [],
   "source": [
    "# concatenate with the first df\n",
    "music_df = pd.concat([artist_song_df, artist_song_df_2], axis=0)\n",
    "music_df=music_df.reset_index(drop=True)"
   ]
  },
  {
   "cell_type": "code",
   "execution_count": 166,
   "id": "f1eb920e",
   "metadata": {},
   "outputs": [
    {
     "data": {
      "text/html": [
       "<div>\n",
       "<style scoped>\n",
       "    .dataframe tbody tr th:only-of-type {\n",
       "        vertical-align: middle;\n",
       "    }\n",
       "\n",
       "    .dataframe tbody tr th {\n",
       "        vertical-align: top;\n",
       "    }\n",
       "\n",
       "    .dataframe thead th {\n",
       "        text-align: right;\n",
       "    }\n",
       "</style>\n",
       "<table border=\"1\" class=\"dataframe\">\n",
       "  <thead>\n",
       "    <tr style=\"text-align: right;\">\n",
       "      <th></th>\n",
       "      <th>artist</th>\n",
       "      <th>song</th>\n",
       "    </tr>\n",
       "  </thead>\n",
       "  <tbody>\n",
       "    <tr>\n",
       "      <th>0</th>\n",
       "      <td>Mark Ronson featuring Bruno Mars</td>\n",
       "      <td>Uptown Funk</td>\n",
       "    </tr>\n",
       "    <tr>\n",
       "      <th>1</th>\n",
       "      <td>Ed Sheeran</td>\n",
       "      <td>Thinking Out Loud</td>\n",
       "    </tr>\n",
       "    <tr>\n",
       "      <th>2</th>\n",
       "      <td>Wiz Khalifa featuring Charlie Puth</td>\n",
       "      <td>See You Again</td>\n",
       "    </tr>\n",
       "    <tr>\n",
       "      <th>3</th>\n",
       "      <td>Fetty Wap</td>\n",
       "      <td>Trap Queen</td>\n",
       "    </tr>\n",
       "    <tr>\n",
       "      <th>4</th>\n",
       "      <td>Maroon 5</td>\n",
       "      <td>Sugar</td>\n",
       "    </tr>\n",
       "  </tbody>\n",
       "</table>\n",
       "</div>"
      ],
      "text/plain": [
       "                                 artist               song\n",
       "0     Mark Ronson featuring Bruno Mars         Uptown Funk\n",
       "1                           Ed Sheeran   Thinking Out Loud\n",
       "2   Wiz Khalifa featuring Charlie Puth       See You Again\n",
       "3                            Fetty Wap          Trap Queen\n",
       "4                             Maroon 5               Sugar"
      ]
     },
     "execution_count": 166,
     "metadata": {},
     "output_type": "execute_result"
    }
   ],
   "source": [
    "music_df.head()"
   ]
  },
  {
   "cell_type": "code",
   "execution_count": 167,
   "id": "9ad6422d",
   "metadata": {},
   "outputs": [
    {
     "data": {
      "text/plain": [
       "(200, 2)"
      ]
     },
     "execution_count": 167,
     "metadata": {},
     "output_type": "execute_result"
    }
   ],
   "source": [
    "music_df.shape"
   ]
  },
  {
   "cell_type": "code",
   "execution_count": null,
   "id": "ab32c1f2",
   "metadata": {},
   "outputs": [],
   "source": []
  },
  {
   "cell_type": "markdown",
   "id": "03ff6b66",
   "metadata": {},
   "source": [
    "# Song recommendation"
   ]
  },
  {
   "cell_type": "code",
   "execution_count": 117,
   "id": "6d75c82c",
   "metadata": {},
   "outputs": [],
   "source": [
    "import random"
   ]
  },
  {
   "cell_type": "code",
   "execution_count": 141,
   "id": "a544e936",
   "metadata": {},
   "outputs": [],
   "source": [
    "secure_random = random.SystemRandom()"
   ]
  },
  {
   "cell_type": "code",
   "execution_count": 143,
   "id": "4a38b5b8",
   "metadata": {},
   "outputs": [
    {
     "name": "stdout",
     "output_type": "stream",
     "text": [
      "One of my favorite songs is: Trap Queen\n"
     ]
    }
   ],
   "source": [
    "favorite_song = input(\"One of my favorite songs is: \")\n",
    "#print(favorite_song)"
   ]
  },
  {
   "cell_type": "code",
   "execution_count": null,
   "id": "4d507a9a",
   "metadata": {},
   "outputs": [],
   "source": [
    "#print(favorite_song)\n",
    "# artist_song_df[(artist_song_df['song'].isin(['']))]\n",
    "# len(artist_song_df[(artist_song_df['song'].isin(['Shake It Off']))])"
   ]
  },
  {
   "cell_type": "code",
   "execution_count": 144,
   "id": "06f9763c",
   "metadata": {},
   "outputs": [
    {
     "name": "stdout",
     "output_type": "stream",
     "text": [
      "Our song recommendation is:  Elastic Heart\n"
     ]
    }
   ],
   "source": [
    "if len(music_df[(music_df['song'].isin([favorite_song]))])>0:\n",
    "    print(\"Our song recommendation is: \", secure_random.choice(music_df['song'])) \n",
    "else:\n",
    "    print(\"We are sorry that we do not have a song recommendation for you now.\")"
   ]
  },
  {
   "cell_type": "code",
   "execution_count": null,
   "id": "f16ed67d",
   "metadata": {},
   "outputs": [],
   "source": []
  },
  {
   "cell_type": "markdown",
   "id": "887d3a75",
   "metadata": {},
   "source": [
    "# Scraping Spotify"
   ]
  },
  {
   "cell_type": "markdown",
   "id": "ff189d68",
   "metadata": {},
   "source": [
    "## Import sp and authenticate with the secret"
   ]
  },
  {
   "cell_type": "code",
   "execution_count": 4,
   "id": "f51f7b75",
   "metadata": {},
   "outputs": [],
   "source": [
    "import spotipy\n",
    "from spotipy.oauth2 import SpotifyClientCredentials #this line will enable me to authenticate myself\n"
   ]
  },
  {
   "cell_type": "code",
   "execution_count": 5,
   "id": "c144eafc",
   "metadata": {},
   "outputs": [],
   "source": [
    "secrets_file = open(\"secrets.txt\",\"r\")"
   ]
  },
  {
   "cell_type": "code",
   "execution_count": null,
   "id": "9589016c",
   "metadata": {},
   "outputs": [],
   "source": [
    "string = secrets_file.read()\n",
    "\n",
    "string\n"
   ]
  },
  {
   "cell_type": "code",
   "execution_count": null,
   "id": "4111068d",
   "metadata": {},
   "outputs": [],
   "source": [
    "string.split('\\n')\n"
   ]
  },
  {
   "cell_type": "code",
   "execution_count": null,
   "id": "f04c30c2",
   "metadata": {},
   "outputs": [],
   "source": [
    "secrets_dict={}\n",
    "for line in string.split('\\n'):\n",
    "    if len(line) > 0:\n",
    "        secrets_dict[line.split(':')[0]]=line.split(':')[1].strip() # strip is if there was a space in the passcode.\n",
    "\n",
    "secrets_dict"
   ]
  },
  {
   "cell_type": "markdown",
   "id": "dc5a8e63",
   "metadata": {},
   "source": [
    "## Authentication"
   ]
  },
  {
   "cell_type": "code",
   "execution_count": 45,
   "id": "70b0c91e",
   "metadata": {},
   "outputs": [],
   "source": [
    "import spotipy #wrapper\n",
    "from spotipy.oauth2 import SpotifyClientCredentials\n",
    "\n",
    "#Initialize SpotiPy with user credentials\n",
    "sp = spotipy.Spotify(auth_manager=SpotifyClientCredentials(client_id=secrets_dict['cid'],\n",
    "                                                           client_secret=secrets_dict['csecret']))"
   ]
  },
  {
   "cell_type": "markdown",
   "id": "ce2a9be9",
   "metadata": {},
   "source": [
    "## Exploring (the df will be created in the next section)"
   ]
  },
  {
   "cell_type": "markdown",
   "id": "3b2dde59",
   "metadata": {},
   "source": [
    "### Playlists"
   ]
  },
  {
   "cell_type": "code",
   "execution_count": 46,
   "id": "6d76b12a",
   "metadata": {},
   "outputs": [],
   "source": [
    "playlist = sp.user_playlist_tracks(\"spotify\", \"36f5MuoelMRwVIet1HUqYC\") #default limit in playlists is 100\n"
   ]
  },
  {
   "cell_type": "code",
   "execution_count": null,
   "id": "9a1ab6ca",
   "metadata": {},
   "outputs": [],
   "source": [
    "playlist"
   ]
  },
  {
   "cell_type": "code",
   "execution_count": 52,
   "id": "c79401e4",
   "metadata": {},
   "outputs": [
    {
     "data": {
      "text/plain": [
       "dict_keys(['href', 'items', 'limit', 'next', 'offset', 'previous', 'total'])"
      ]
     },
     "execution_count": 52,
     "metadata": {},
     "output_type": "execute_result"
    }
   ],
   "source": [
    "playlist.keys() "
   ]
  },
  {
   "cell_type": "code",
   "execution_count": 53,
   "id": "a6c727ce",
   "metadata": {},
   "outputs": [
    {
     "data": {
      "text/plain": [
       "dict_keys(['added_at', 'added_by', 'is_local', 'primary_color', 'track', 'video_thumbnail'])"
      ]
     },
     "execution_count": 53,
     "metadata": {},
     "output_type": "execute_result"
    }
   ],
   "source": [
    "playlist[\"items\"][0].keys()"
   ]
  },
  {
   "cell_type": "code",
   "execution_count": null,
   "id": "13676afb",
   "metadata": {},
   "outputs": [],
   "source": [
    "playlist[\"items\"][0][\"track\"]"
   ]
  },
  {
   "cell_type": "code",
   "execution_count": 55,
   "id": "81c9ee6f",
   "metadata": {},
   "outputs": [
    {
     "data": {
      "text/plain": [
       "'Imagine - Remastered 2010'"
      ]
     },
     "execution_count": 55,
     "metadata": {},
     "output_type": "execute_result"
    }
   ],
   "source": [
    "playlist[\"items\"][0][\"track\"][\"name\"]"
   ]
  },
  {
   "cell_type": "code",
   "execution_count": 56,
   "id": "a179aadc",
   "metadata": {},
   "outputs": [
    {
     "data": {
      "text/plain": [
       "502"
      ]
     },
     "execution_count": 56,
     "metadata": {},
     "output_type": "execute_result"
    }
   ],
   "source": [
    "playlist[\"total\"] "
   ]
  },
  {
   "cell_type": "code",
   "execution_count": 57,
   "id": "100ba7e8",
   "metadata": {},
   "outputs": [
    {
     "data": {
      "text/plain": [
       "100"
      ]
     },
     "execution_count": 57,
     "metadata": {},
     "output_type": "execute_result"
    }
   ],
   "source": [
    "len(playlist[\"items\"])"
   ]
  },
  {
   "cell_type": "code",
   "execution_count": 60,
   "id": "52642a98",
   "metadata": {},
   "outputs": [],
   "source": [
    "from random import randint\n",
    "from time import sleep\n",
    "\n",
    "def get_playlist_tracks(playlist_id):\n",
    "    results = sp.user_playlist_tracks(\"spotify\",playlist_id)\n",
    "    tracks = results['items']\n",
    "    while results['next']!=None:\n",
    "        results = sp.next(results)\n",
    "        tracks = tracks + results['items']\n",
    "        sleep(randint(1,3)) # 1, 2, or 3 seconds  # sleep(randint(1,3000)/1000)\n",
    "    return tracks"
   ]
  },
  {
   "cell_type": "code",
   "execution_count": 61,
   "id": "498d92aa",
   "metadata": {},
   "outputs": [
    {
     "data": {
      "text/plain": [
       "502"
      ]
     },
     "execution_count": 61,
     "metadata": {},
     "output_type": "execute_result"
    }
   ],
   "source": [
    "all_tracks = get_playlist_tracks(\"36f5MuoelMRwVIet1HUqYC\")\n",
    "len(all_tracks)"
   ]
  },
  {
   "cell_type": "code",
   "execution_count": 83,
   "id": "0d6cefb9",
   "metadata": {},
   "outputs": [
    {
     "data": {
      "text/plain": [
       "'Nick Drake'"
      ]
     },
     "execution_count": 83,
     "metadata": {},
     "output_type": "execute_result"
    }
   ],
   "source": [
    "all_tracks[501]['track']['album']['artists'][0]['name'] # artist names"
   ]
  },
  {
   "cell_type": "code",
   "execution_count": 76,
   "id": "158b7727",
   "metadata": {},
   "outputs": [
    {
     "data": {
      "text/plain": [
       "'A Whiter Shade Of Pale'"
      ]
     },
     "execution_count": 76,
     "metadata": {},
     "output_type": "execute_result"
    }
   ],
   "source": [
    "all_tracks[1]['track']['album']['name'] # song names"
   ]
  },
  {
   "cell_type": "code",
   "execution_count": null,
   "id": "6c64530c",
   "metadata": {},
   "outputs": [],
   "source": [
    "all_tracks # is a list of dictionaries!"
   ]
  },
  {
   "cell_type": "code",
   "execution_count": null,
   "id": "affee46f",
   "metadata": {},
   "outputs": [],
   "source": []
  },
  {
   "cell_type": "markdown",
   "id": "4c03d40a",
   "metadata": {},
   "source": [
    "### Audio Features"
   ]
  },
  {
   "cell_type": "code",
   "execution_count": 125,
   "id": "d3bae13c",
   "metadata": {},
   "outputs": [
    {
     "data": {
      "text/plain": [
       "dict_keys(['added_at', 'added_by', 'is_local', 'primary_color', 'track', 'video_thumbnail'])"
      ]
     },
     "execution_count": 125,
     "metadata": {},
     "output_type": "execute_result"
    }
   ],
   "source": [
    "all_tracks[0].keys()"
   ]
  },
  {
   "cell_type": "code",
   "execution_count": 126,
   "id": "a222c94c",
   "metadata": {},
   "outputs": [
    {
     "data": {
      "text/plain": [
       "'spotify:track:6JFlwCkZGXj62ObbD9zDeX'"
      ]
     },
     "execution_count": 126,
     "metadata": {},
     "output_type": "execute_result"
    }
   ],
   "source": [
    "all_tracks[501]['track']['uri']"
   ]
  },
  {
   "cell_type": "code",
   "execution_count": 135,
   "id": "0df8561f",
   "metadata": {},
   "outputs": [],
   "source": [
    "song_uri= all_tracks[500]['track']['uri']"
   ]
  },
  {
   "cell_type": "code",
   "execution_count": 136,
   "id": "32f11412",
   "metadata": {},
   "outputs": [],
   "source": [
    "features=sp.audio_features(song_uri)"
   ]
  },
  {
   "cell_type": "code",
   "execution_count": 139,
   "id": "98b80d93",
   "metadata": {},
   "outputs": [
    {
     "data": {
      "text/plain": [
       "{'danceability': 0.186,\n",
       " 'energy': 0.158,\n",
       " 'key': 2,\n",
       " 'loudness': -18.775,\n",
       " 'mode': 0,\n",
       " 'speechiness': 0.0316,\n",
       " 'acousticness': 0.84,\n",
       " 'instrumentalness': 0.595,\n",
       " 'liveness': 0.0708,\n",
       " 'valence': 0.0652,\n",
       " 'tempo': 86.651,\n",
       " 'type': 'audio_features',\n",
       " 'id': '6p2AmqmBpr2EPgohLqIS7A',\n",
       " 'uri': 'spotify:track:6p2AmqmBpr2EPgohLqIS7A',\n",
       " 'track_href': 'https://api.spotify.com/v1/tracks/6p2AmqmBpr2EPgohLqIS7A',\n",
       " 'analysis_url': 'https://api.spotify.com/v1/audio-analysis/6p2AmqmBpr2EPgohLqIS7A',\n",
       " 'duration_ms': 618640,\n",
       " 'time_signature': 3}"
      ]
     },
     "execution_count": 139,
     "metadata": {},
     "output_type": "execute_result"
    }
   ],
   "source": [
    "features[0]"
   ]
  },
  {
   "cell_type": "code",
   "execution_count": 105,
   "id": "817b815c",
   "metadata": {},
   "outputs": [
    {
     "data": {
      "text/plain": [
       "'spotify:track:7pKfPomDEeI4TPT6EOYjn9'"
      ]
     },
     "execution_count": 105,
     "metadata": {},
     "output_type": "execute_result"
    }
   ],
   "source": [
    "playlist['items'][0]['track']['uri']"
   ]
  },
  {
   "cell_type": "markdown",
   "id": "cbb3546a",
   "metadata": {},
   "source": [
    "## Creating a df with artist song and audio features columns"
   ]
  },
  {
   "cell_type": "markdown",
   "id": "dec45df0",
   "metadata": {},
   "source": [
    "### First playlist"
   ]
  },
  {
   "cell_type": "code",
   "execution_count": 209,
   "id": "f58420c9",
   "metadata": {},
   "outputs": [],
   "source": [
    "from random import randint\n",
    "from time import sleep\n",
    "\n",
    "def get_playlist_tracks(playlist_id):\n",
    "    results = sp.user_playlist_tracks(\"spotify\",playlist_id)\n",
    "    tracks = results['items']\n",
    "    while results['next']!=None:\n",
    "        results = sp.next(results)\n",
    "        tracks = tracks + results['items']\n",
    "        sleep(randint(1,3)) # 1, 2, or 3 seconds  OR try # sleep(randint(1,3000)/1000)\n",
    "    return tracks"
   ]
  },
  {
   "cell_type": "code",
   "execution_count": 210,
   "id": "96157b82",
   "metadata": {},
   "outputs": [],
   "source": [
    "all_tracks = get_playlist_tracks(\"36f5MuoelMRwVIet1HUqYC\")"
   ]
  },
  {
   "cell_type": "code",
   "execution_count": 211,
   "id": "3e0368bf",
   "metadata": {},
   "outputs": [
    {
     "data": {
      "text/plain": [
       "502"
      ]
     },
     "execution_count": 211,
     "metadata": {},
     "output_type": "execute_result"
    }
   ],
   "source": [
    "len(all_tracks)"
   ]
  },
  {
   "cell_type": "code",
   "execution_count": 212,
   "id": "61196ae9",
   "metadata": {},
   "outputs": [],
   "source": [
    "def flatten_it(data, col_list):\n",
    "    for column in col_list:\n",
    "        flattened = pd.DataFrame(dict(data[column])).transpose()\n",
    "        columns = [str(col) for col in flattened.columns]\n",
    "        flattened.columns = [column + '_' + colname for colname in columns]\n",
    "        data = pd.concat([data, flattened], axis=1)\n",
    "        data = data.drop(column, axis=1)\n",
    "    return data"
   ]
  },
  {
   "cell_type": "code",
   "execution_count": 213,
   "id": "3ce67ba2",
   "metadata": {},
   "outputs": [],
   "source": [
    "def playlist_to_df(tracks_list):\n",
    "    artist_s = []\n",
    "    song_s = []\n",
    "    song_uri_s=[]\n",
    "    features_s= []\n",
    "\n",
    "    num_iter = len(tracks_list)\n",
    "\n",
    "    for i in range(num_iter):\n",
    "        artist_s.append(tracks_list[i]['track']['album']['artists'][0]['name'])\n",
    "        song_s.append(tracks_list[i]['track']['album']['name'])\n",
    "        song_uri_s.append(tracks_list[i]['track']['uri'])\n",
    "        features_s.append(sp.audio_features(song_uri_s[i]))\n",
    "        \n",
    "    df_v0= pd.DataFrame({\"artist\":artist_s,\"song\":song_s,\"audio_features\":features_s})\n",
    "    \n",
    "    nested_columns = ['audio_features']\n",
    "    df_v1 = flatten_it(df_v0, nested_columns)\n",
    "    music_df=pd.concat([df_v1.drop(['audio_features_0'], axis=1), df_v1['audio_features_0'].apply(pd.Series)], axis=1)\n",
    "    \n",
    "    return music_df\n"
   ]
  },
  {
   "cell_type": "code",
   "execution_count": 214,
   "id": "9635c88b",
   "metadata": {},
   "outputs": [],
   "source": [
    "spotify_df_1=playlist_to_df(all_tracks)"
   ]
  },
  {
   "cell_type": "code",
   "execution_count": 215,
   "id": "f25bd913",
   "metadata": {},
   "outputs": [
    {
     "data": {
      "text/html": [
       "<div>\n",
       "<style scoped>\n",
       "    .dataframe tbody tr th:only-of-type {\n",
       "        vertical-align: middle;\n",
       "    }\n",
       "\n",
       "    .dataframe tbody tr th {\n",
       "        vertical-align: top;\n",
       "    }\n",
       "\n",
       "    .dataframe thead th {\n",
       "        text-align: right;\n",
       "    }\n",
       "</style>\n",
       "<table border=\"1\" class=\"dataframe\">\n",
       "  <thead>\n",
       "    <tr style=\"text-align: right;\">\n",
       "      <th></th>\n",
       "      <th>artist</th>\n",
       "      <th>song</th>\n",
       "      <th>danceability</th>\n",
       "      <th>energy</th>\n",
       "      <th>key</th>\n",
       "      <th>loudness</th>\n",
       "      <th>mode</th>\n",
       "      <th>speechiness</th>\n",
       "      <th>acousticness</th>\n",
       "      <th>instrumentalness</th>\n",
       "      <th>liveness</th>\n",
       "      <th>valence</th>\n",
       "      <th>tempo</th>\n",
       "      <th>type</th>\n",
       "      <th>id</th>\n",
       "      <th>uri</th>\n",
       "      <th>track_href</th>\n",
       "      <th>analysis_url</th>\n",
       "      <th>duration_ms</th>\n",
       "      <th>time_signature</th>\n",
       "    </tr>\n",
       "  </thead>\n",
       "  <tbody>\n",
       "    <tr>\n",
       "      <th>0</th>\n",
       "      <td>John Lennon</td>\n",
       "      <td>Imagine</td>\n",
       "      <td>0.547</td>\n",
       "      <td>0.257</td>\n",
       "      <td>0</td>\n",
       "      <td>-12.358</td>\n",
       "      <td>1</td>\n",
       "      <td>0.0252</td>\n",
       "      <td>0.907</td>\n",
       "      <td>0.1830</td>\n",
       "      <td>0.0935</td>\n",
       "      <td>0.169</td>\n",
       "      <td>75.752</td>\n",
       "      <td>audio_features</td>\n",
       "      <td>7pKfPomDEeI4TPT6EOYjn9</td>\n",
       "      <td>spotify:track:7pKfPomDEeI4TPT6EOYjn9</td>\n",
       "      <td>https://api.spotify.com/v1/tracks/7pKfPomDEeI4...</td>\n",
       "      <td>https://api.spotify.com/v1/audio-analysis/7pKf...</td>\n",
       "      <td>187867</td>\n",
       "      <td>4</td>\n",
       "    </tr>\n",
       "    <tr>\n",
       "      <th>1</th>\n",
       "      <td>Procol Harum</td>\n",
       "      <td>A Whiter Shade Of Pale</td>\n",
       "      <td>0.249</td>\n",
       "      <td>0.660</td>\n",
       "      <td>0</td>\n",
       "      <td>-6.905</td>\n",
       "      <td>1</td>\n",
       "      <td>0.0342</td>\n",
       "      <td>0.504</td>\n",
       "      <td>0.0026</td>\n",
       "      <td>0.0891</td>\n",
       "      <td>0.435</td>\n",
       "      <td>149.813</td>\n",
       "      <td>audio_features</td>\n",
       "      <td>3qitymULqEibr7yknRMKU4</td>\n",
       "      <td>spotify:track:3qitymULqEibr7yknRMKU4</td>\n",
       "      <td>https://api.spotify.com/v1/tracks/3qitymULqEib...</td>\n",
       "      <td>https://api.spotify.com/v1/audio-analysis/3qit...</td>\n",
       "      <td>248947</td>\n",
       "      <td>4</td>\n",
       "    </tr>\n",
       "    <tr>\n",
       "      <th>2</th>\n",
       "      <td>Queen</td>\n",
       "      <td>A Night At The Opera (2011 Remaster)</td>\n",
       "      <td>0.414</td>\n",
       "      <td>0.404</td>\n",
       "      <td>0</td>\n",
       "      <td>-9.928</td>\n",
       "      <td>0</td>\n",
       "      <td>0.0499</td>\n",
       "      <td>0.271</td>\n",
       "      <td>0.0000</td>\n",
       "      <td>0.3000</td>\n",
       "      <td>0.224</td>\n",
       "      <td>71.105</td>\n",
       "      <td>audio_features</td>\n",
       "      <td>1AhDOtG9vPSOmsWgNW0BEY</td>\n",
       "      <td>spotify:track:1AhDOtG9vPSOmsWgNW0BEY</td>\n",
       "      <td>https://api.spotify.com/v1/tracks/1AhDOtG9vPSO...</td>\n",
       "      <td>https://api.spotify.com/v1/audio-analysis/1AhD...</td>\n",
       "      <td>354320</td>\n",
       "      <td>4</td>\n",
       "    </tr>\n",
       "    <tr>\n",
       "      <th>3</th>\n",
       "      <td>Pink Floyd</td>\n",
       "      <td>The Wall [2011 - Remaster] (2011 Remastered Ve...</td>\n",
       "      <td>0.472</td>\n",
       "      <td>0.366</td>\n",
       "      <td>11</td>\n",
       "      <td>-12.595</td>\n",
       "      <td>0</td>\n",
       "      <td>0.0286</td>\n",
       "      <td>0.150</td>\n",
       "      <td>0.3080</td>\n",
       "      <td>0.0837</td>\n",
       "      <td>0.171</td>\n",
       "      <td>127.167</td>\n",
       "      <td>audio_features</td>\n",
       "      <td>082cLCIXNPg2ruTrENz4Vt</td>\n",
       "      <td>spotify:track:082cLCIXNPg2ruTrENz4Vt</td>\n",
       "      <td>https://api.spotify.com/v1/tracks/082cLCIXNPg2...</td>\n",
       "      <td>https://api.spotify.com/v1/audio-analysis/082c...</td>\n",
       "      <td>382297</td>\n",
       "      <td>4</td>\n",
       "    </tr>\n",
       "    <tr>\n",
       "      <th>4</th>\n",
       "      <td>Bob Dylan</td>\n",
       "      <td>Pat Garrett &amp; Billy The Kid (Soundtrack From T...</td>\n",
       "      <td>0.513</td>\n",
       "      <td>0.396</td>\n",
       "      <td>7</td>\n",
       "      <td>-13.061</td>\n",
       "      <td>1</td>\n",
       "      <td>0.0299</td>\n",
       "      <td>0.251</td>\n",
       "      <td>0.1770</td>\n",
       "      <td>0.1100</td>\n",
       "      <td>0.229</td>\n",
       "      <td>140.208</td>\n",
       "      <td>audio_features</td>\n",
       "      <td>6HSXNV0b4M4cLJ7ljgVVeh</td>\n",
       "      <td>spotify:track:6HSXNV0b4M4cLJ7ljgVVeh</td>\n",
       "      <td>https://api.spotify.com/v1/tracks/6HSXNV0b4M4c...</td>\n",
       "      <td>https://api.spotify.com/v1/audio-analysis/6HSX...</td>\n",
       "      <td>149880</td>\n",
       "      <td>4</td>\n",
       "    </tr>\n",
       "  </tbody>\n",
       "</table>\n",
       "</div>"
      ],
      "text/plain": [
       "         artist                                               song  \\\n",
       "0   John Lennon                                            Imagine   \n",
       "1  Procol Harum                             A Whiter Shade Of Pale   \n",
       "2         Queen               A Night At The Opera (2011 Remaster)   \n",
       "3    Pink Floyd  The Wall [2011 - Remaster] (2011 Remastered Ve...   \n",
       "4     Bob Dylan  Pat Garrett & Billy The Kid (Soundtrack From T...   \n",
       "\n",
       "   danceability  energy  key  loudness  mode  speechiness  acousticness  \\\n",
       "0         0.547   0.257    0   -12.358     1       0.0252         0.907   \n",
       "1         0.249   0.660    0    -6.905     1       0.0342         0.504   \n",
       "2         0.414   0.404    0    -9.928     0       0.0499         0.271   \n",
       "3         0.472   0.366   11   -12.595     0       0.0286         0.150   \n",
       "4         0.513   0.396    7   -13.061     1       0.0299         0.251   \n",
       "\n",
       "   instrumentalness  liveness  valence    tempo            type  \\\n",
       "0            0.1830    0.0935    0.169   75.752  audio_features   \n",
       "1            0.0026    0.0891    0.435  149.813  audio_features   \n",
       "2            0.0000    0.3000    0.224   71.105  audio_features   \n",
       "3            0.3080    0.0837    0.171  127.167  audio_features   \n",
       "4            0.1770    0.1100    0.229  140.208  audio_features   \n",
       "\n",
       "                       id                                   uri  \\\n",
       "0  7pKfPomDEeI4TPT6EOYjn9  spotify:track:7pKfPomDEeI4TPT6EOYjn9   \n",
       "1  3qitymULqEibr7yknRMKU4  spotify:track:3qitymULqEibr7yknRMKU4   \n",
       "2  1AhDOtG9vPSOmsWgNW0BEY  spotify:track:1AhDOtG9vPSOmsWgNW0BEY   \n",
       "3  082cLCIXNPg2ruTrENz4Vt  spotify:track:082cLCIXNPg2ruTrENz4Vt   \n",
       "4  6HSXNV0b4M4cLJ7ljgVVeh  spotify:track:6HSXNV0b4M4cLJ7ljgVVeh   \n",
       "\n",
       "                                          track_href  \\\n",
       "0  https://api.spotify.com/v1/tracks/7pKfPomDEeI4...   \n",
       "1  https://api.spotify.com/v1/tracks/3qitymULqEib...   \n",
       "2  https://api.spotify.com/v1/tracks/1AhDOtG9vPSO...   \n",
       "3  https://api.spotify.com/v1/tracks/082cLCIXNPg2...   \n",
       "4  https://api.spotify.com/v1/tracks/6HSXNV0b4M4c...   \n",
       "\n",
       "                                        analysis_url  duration_ms  \\\n",
       "0  https://api.spotify.com/v1/audio-analysis/7pKf...       187867   \n",
       "1  https://api.spotify.com/v1/audio-analysis/3qit...       248947   \n",
       "2  https://api.spotify.com/v1/audio-analysis/1AhD...       354320   \n",
       "3  https://api.spotify.com/v1/audio-analysis/082c...       382297   \n",
       "4  https://api.spotify.com/v1/audio-analysis/6HSX...       149880   \n",
       "\n",
       "   time_signature  \n",
       "0               4  \n",
       "1               4  \n",
       "2               4  \n",
       "3               4  \n",
       "4               4  "
      ]
     },
     "metadata": {},
     "output_type": "display_data"
    },
    {
     "data": {
      "text/plain": [
       "(502, 20)"
      ]
     },
     "metadata": {},
     "output_type": "display_data"
    }
   ],
   "source": [
    "display(spotify_df_1.head())\n",
    "display(spotify_df_1.shape)\n"
   ]
  },
  {
   "cell_type": "markdown",
   "id": "dbbb7bdd",
   "metadata": {},
   "source": [
    "### Adding a second playlist"
   ]
  },
  {
   "cell_type": "code",
   "execution_count": 216,
   "id": "ce1256bd",
   "metadata": {},
   "outputs": [],
   "source": [
    "all_tracks_2 = get_playlist_tracks(\"532F1h299qKD894BlPfJJF\")"
   ]
  },
  {
   "cell_type": "code",
   "execution_count": 217,
   "id": "997b8775",
   "metadata": {},
   "outputs": [
    {
     "data": {
      "text/plain": [
       "6242"
      ]
     },
     "execution_count": 217,
     "metadata": {},
     "output_type": "execute_result"
    }
   ],
   "source": [
    "len(all_tracks_2)"
   ]
  },
  {
   "cell_type": "code",
   "execution_count": 218,
   "id": "9c72a67e",
   "metadata": {},
   "outputs": [],
   "source": [
    "spotify_df_2=playlist_to_df(all_tracks_2)"
   ]
  },
  {
   "cell_type": "code",
   "execution_count": 219,
   "id": "a06e5b1f",
   "metadata": {},
   "outputs": [
    {
     "data": {
      "text/html": [
       "<div>\n",
       "<style scoped>\n",
       "    .dataframe tbody tr th:only-of-type {\n",
       "        vertical-align: middle;\n",
       "    }\n",
       "\n",
       "    .dataframe tbody tr th {\n",
       "        vertical-align: top;\n",
       "    }\n",
       "\n",
       "    .dataframe thead th {\n",
       "        text-align: right;\n",
       "    }\n",
       "</style>\n",
       "<table border=\"1\" class=\"dataframe\">\n",
       "  <thead>\n",
       "    <tr style=\"text-align: right;\">\n",
       "      <th></th>\n",
       "      <th>artist</th>\n",
       "      <th>song</th>\n",
       "      <th>danceability</th>\n",
       "      <th>energy</th>\n",
       "      <th>key</th>\n",
       "      <th>loudness</th>\n",
       "      <th>mode</th>\n",
       "      <th>speechiness</th>\n",
       "      <th>acousticness</th>\n",
       "      <th>instrumentalness</th>\n",
       "      <th>liveness</th>\n",
       "      <th>valence</th>\n",
       "      <th>tempo</th>\n",
       "      <th>type</th>\n",
       "      <th>id</th>\n",
       "      <th>uri</th>\n",
       "      <th>track_href</th>\n",
       "      <th>analysis_url</th>\n",
       "      <th>duration_ms</th>\n",
       "      <th>time_signature</th>\n",
       "    </tr>\n",
       "  </thead>\n",
       "  <tbody>\n",
       "    <tr>\n",
       "      <th>0</th>\n",
       "      <td>Roy Orbison</td>\n",
       "      <td>Oh, Pretty Woman</td>\n",
       "      <td>0.619</td>\n",
       "      <td>0.603</td>\n",
       "      <td>9</td>\n",
       "      <td>-9.481</td>\n",
       "      <td>1</td>\n",
       "      <td>0.0342</td>\n",
       "      <td>0.712</td>\n",
       "      <td>0.000000</td>\n",
       "      <td>0.0721</td>\n",
       "      <td>0.958</td>\n",
       "      <td>127.433</td>\n",
       "      <td>audio_features</td>\n",
       "      <td>48i055G1OT5KxGGftwFxWy</td>\n",
       "      <td>spotify:track:48i055G1OT5KxGGftwFxWy</td>\n",
       "      <td>https://api.spotify.com/v1/tracks/48i055G1OT5K...</td>\n",
       "      <td>https://api.spotify.com/v1/audio-analysis/48i0...</td>\n",
       "      <td>178933</td>\n",
       "      <td>4</td>\n",
       "    </tr>\n",
       "    <tr>\n",
       "      <th>1</th>\n",
       "      <td>The Monkees</td>\n",
       "      <td>More of The Monkees (Deluxe Edition)</td>\n",
       "      <td>0.526</td>\n",
       "      <td>0.775</td>\n",
       "      <td>0</td>\n",
       "      <td>-6.050</td>\n",
       "      <td>1</td>\n",
       "      <td>0.0352</td>\n",
       "      <td>0.707</td>\n",
       "      <td>0.000021</td>\n",
       "      <td>0.2170</td>\n",
       "      <td>0.962</td>\n",
       "      <td>80.106</td>\n",
       "      <td>audio_features</td>\n",
       "      <td>3G7tRC24Uh09Hmp1KZ7LQ2</td>\n",
       "      <td>spotify:track:3G7tRC24Uh09Hmp1KZ7LQ2</td>\n",
       "      <td>https://api.spotify.com/v1/tracks/3G7tRC24Uh09...</td>\n",
       "      <td>https://api.spotify.com/v1/audio-analysis/3G7t...</td>\n",
       "      <td>167373</td>\n",
       "      <td>4</td>\n",
       "    </tr>\n",
       "    <tr>\n",
       "      <th>2</th>\n",
       "      <td>Jefferson Airplane</td>\n",
       "      <td>Surrealistic Pillow</td>\n",
       "      <td>0.504</td>\n",
       "      <td>0.578</td>\n",
       "      <td>4</td>\n",
       "      <td>-9.302</td>\n",
       "      <td>1</td>\n",
       "      <td>0.0310</td>\n",
       "      <td>0.408</td>\n",
       "      <td>0.000000</td>\n",
       "      <td>0.3210</td>\n",
       "      <td>0.654</td>\n",
       "      <td>132.411</td>\n",
       "      <td>audio_features</td>\n",
       "      <td>4uGIJG1jYFonGc4LGp5uQL</td>\n",
       "      <td>spotify:track:4uGIJG1jYFonGc4LGp5uQL</td>\n",
       "      <td>https://api.spotify.com/v1/tracks/4uGIJG1jYFon...</td>\n",
       "      <td>https://api.spotify.com/v1/audio-analysis/4uGI...</td>\n",
       "      <td>174840</td>\n",
       "      <td>4</td>\n",
       "    </tr>\n",
       "    <tr>\n",
       "      <th>3</th>\n",
       "      <td>The Turtles</td>\n",
       "      <td>Happy Together</td>\n",
       "      <td>0.584</td>\n",
       "      <td>0.367</td>\n",
       "      <td>6</td>\n",
       "      <td>-9.638</td>\n",
       "      <td>0</td>\n",
       "      <td>0.0328</td>\n",
       "      <td>0.550</td>\n",
       "      <td>0.000014</td>\n",
       "      <td>0.0818</td>\n",
       "      <td>0.588</td>\n",
       "      <td>120.175</td>\n",
       "      <td>audio_features</td>\n",
       "      <td>1JO1xLtVc8mWhIoE3YaCL0</td>\n",
       "      <td>spotify:track:1JO1xLtVc8mWhIoE3YaCL0</td>\n",
       "      <td>https://api.spotify.com/v1/tracks/1JO1xLtVc8mW...</td>\n",
       "      <td>https://api.spotify.com/v1/audio-analysis/1JO1...</td>\n",
       "      <td>176293</td>\n",
       "      <td>4</td>\n",
       "    </tr>\n",
       "    <tr>\n",
       "      <th>4</th>\n",
       "      <td>The Beach Boys</td>\n",
       "      <td>Pet Sounds (Original Mono &amp; Stereo Mix Versions)</td>\n",
       "      <td>0.392</td>\n",
       "      <td>0.629</td>\n",
       "      <td>5</td>\n",
       "      <td>-7.056</td>\n",
       "      <td>1</td>\n",
       "      <td>0.0335</td>\n",
       "      <td>0.718</td>\n",
       "      <td>0.000004</td>\n",
       "      <td>0.1290</td>\n",
       "      <td>0.720</td>\n",
       "      <td>124.511</td>\n",
       "      <td>audio_features</td>\n",
       "      <td>2Gy7qnDwt8Z3MNxqat4CsK</td>\n",
       "      <td>spotify:track:2Gy7qnDwt8Z3MNxqat4CsK</td>\n",
       "      <td>https://api.spotify.com/v1/tracks/2Gy7qnDwt8Z3...</td>\n",
       "      <td>https://api.spotify.com/v1/audio-analysis/2Gy7...</td>\n",
       "      <td>153205</td>\n",
       "      <td>4</td>\n",
       "    </tr>\n",
       "  </tbody>\n",
       "</table>\n",
       "</div>"
      ],
      "text/plain": [
       "               artist                                              song  \\\n",
       "0         Roy Orbison                                  Oh, Pretty Woman   \n",
       "1         The Monkees              More of The Monkees (Deluxe Edition)   \n",
       "2  Jefferson Airplane                               Surrealistic Pillow   \n",
       "3         The Turtles                                    Happy Together   \n",
       "4      The Beach Boys  Pet Sounds (Original Mono & Stereo Mix Versions)   \n",
       "\n",
       "   danceability  energy  key  loudness  mode  speechiness  acousticness  \\\n",
       "0         0.619   0.603    9    -9.481     1       0.0342         0.712   \n",
       "1         0.526   0.775    0    -6.050     1       0.0352         0.707   \n",
       "2         0.504   0.578    4    -9.302     1       0.0310         0.408   \n",
       "3         0.584   0.367    6    -9.638     0       0.0328         0.550   \n",
       "4         0.392   0.629    5    -7.056     1       0.0335         0.718   \n",
       "\n",
       "   instrumentalness  liveness  valence    tempo            type  \\\n",
       "0          0.000000    0.0721    0.958  127.433  audio_features   \n",
       "1          0.000021    0.2170    0.962   80.106  audio_features   \n",
       "2          0.000000    0.3210    0.654  132.411  audio_features   \n",
       "3          0.000014    0.0818    0.588  120.175  audio_features   \n",
       "4          0.000004    0.1290    0.720  124.511  audio_features   \n",
       "\n",
       "                       id                                   uri  \\\n",
       "0  48i055G1OT5KxGGftwFxWy  spotify:track:48i055G1OT5KxGGftwFxWy   \n",
       "1  3G7tRC24Uh09Hmp1KZ7LQ2  spotify:track:3G7tRC24Uh09Hmp1KZ7LQ2   \n",
       "2  4uGIJG1jYFonGc4LGp5uQL  spotify:track:4uGIJG1jYFonGc4LGp5uQL   \n",
       "3  1JO1xLtVc8mWhIoE3YaCL0  spotify:track:1JO1xLtVc8mWhIoE3YaCL0   \n",
       "4  2Gy7qnDwt8Z3MNxqat4CsK  spotify:track:2Gy7qnDwt8Z3MNxqat4CsK   \n",
       "\n",
       "                                          track_href  \\\n",
       "0  https://api.spotify.com/v1/tracks/48i055G1OT5K...   \n",
       "1  https://api.spotify.com/v1/tracks/3G7tRC24Uh09...   \n",
       "2  https://api.spotify.com/v1/tracks/4uGIJG1jYFon...   \n",
       "3  https://api.spotify.com/v1/tracks/1JO1xLtVc8mW...   \n",
       "4  https://api.spotify.com/v1/tracks/2Gy7qnDwt8Z3...   \n",
       "\n",
       "                                        analysis_url  duration_ms  \\\n",
       "0  https://api.spotify.com/v1/audio-analysis/48i0...       178933   \n",
       "1  https://api.spotify.com/v1/audio-analysis/3G7t...       167373   \n",
       "2  https://api.spotify.com/v1/audio-analysis/4uGI...       174840   \n",
       "3  https://api.spotify.com/v1/audio-analysis/1JO1...       176293   \n",
       "4  https://api.spotify.com/v1/audio-analysis/2Gy7...       153205   \n",
       "\n",
       "   time_signature  \n",
       "0               4  \n",
       "1               4  \n",
       "2               4  \n",
       "3               4  \n",
       "4               4  "
      ]
     },
     "metadata": {},
     "output_type": "display_data"
    },
    {
     "data": {
      "text/plain": [
       "(6242, 20)"
      ]
     },
     "metadata": {},
     "output_type": "display_data"
    }
   ],
   "source": [
    "display(spotify_df_2.head())\n",
    "display(spotify_df_2.shape)\n"
   ]
  },
  {
   "cell_type": "markdown",
   "id": "8cf0678b",
   "metadata": {},
   "source": [
    "### Concatenating the two dataframes"
   ]
  },
  {
   "cell_type": "code",
   "execution_count": 220,
   "id": "24886c40",
   "metadata": {},
   "outputs": [],
   "source": [
    "spotify_df = pd.concat([spotify_df_1, spotify_df_2], axis=0)"
   ]
  },
  {
   "cell_type": "code",
   "execution_count": 221,
   "id": "cff4a878",
   "metadata": {},
   "outputs": [
    {
     "data": {
      "text/html": [
       "<div>\n",
       "<style scoped>\n",
       "    .dataframe tbody tr th:only-of-type {\n",
       "        vertical-align: middle;\n",
       "    }\n",
       "\n",
       "    .dataframe tbody tr th {\n",
       "        vertical-align: top;\n",
       "    }\n",
       "\n",
       "    .dataframe thead th {\n",
       "        text-align: right;\n",
       "    }\n",
       "</style>\n",
       "<table border=\"1\" class=\"dataframe\">\n",
       "  <thead>\n",
       "    <tr style=\"text-align: right;\">\n",
       "      <th></th>\n",
       "      <th>artist</th>\n",
       "      <th>song</th>\n",
       "      <th>danceability</th>\n",
       "      <th>energy</th>\n",
       "      <th>key</th>\n",
       "      <th>loudness</th>\n",
       "      <th>mode</th>\n",
       "      <th>speechiness</th>\n",
       "      <th>acousticness</th>\n",
       "      <th>instrumentalness</th>\n",
       "      <th>liveness</th>\n",
       "      <th>valence</th>\n",
       "      <th>tempo</th>\n",
       "      <th>type</th>\n",
       "      <th>id</th>\n",
       "      <th>uri</th>\n",
       "      <th>track_href</th>\n",
       "      <th>analysis_url</th>\n",
       "      <th>duration_ms</th>\n",
       "      <th>time_signature</th>\n",
       "    </tr>\n",
       "  </thead>\n",
       "  <tbody>\n",
       "    <tr>\n",
       "      <th>0</th>\n",
       "      <td>John Lennon</td>\n",
       "      <td>Imagine</td>\n",
       "      <td>0.547</td>\n",
       "      <td>0.257</td>\n",
       "      <td>0</td>\n",
       "      <td>-12.358</td>\n",
       "      <td>1</td>\n",
       "      <td>0.0252</td>\n",
       "      <td>0.907</td>\n",
       "      <td>0.1830</td>\n",
       "      <td>0.0935</td>\n",
       "      <td>0.169</td>\n",
       "      <td>75.752</td>\n",
       "      <td>audio_features</td>\n",
       "      <td>7pKfPomDEeI4TPT6EOYjn9</td>\n",
       "      <td>spotify:track:7pKfPomDEeI4TPT6EOYjn9</td>\n",
       "      <td>https://api.spotify.com/v1/tracks/7pKfPomDEeI4...</td>\n",
       "      <td>https://api.spotify.com/v1/audio-analysis/7pKf...</td>\n",
       "      <td>187867</td>\n",
       "      <td>4</td>\n",
       "    </tr>\n",
       "    <tr>\n",
       "      <th>1</th>\n",
       "      <td>Procol Harum</td>\n",
       "      <td>A Whiter Shade Of Pale</td>\n",
       "      <td>0.249</td>\n",
       "      <td>0.660</td>\n",
       "      <td>0</td>\n",
       "      <td>-6.905</td>\n",
       "      <td>1</td>\n",
       "      <td>0.0342</td>\n",
       "      <td>0.504</td>\n",
       "      <td>0.0026</td>\n",
       "      <td>0.0891</td>\n",
       "      <td>0.435</td>\n",
       "      <td>149.813</td>\n",
       "      <td>audio_features</td>\n",
       "      <td>3qitymULqEibr7yknRMKU4</td>\n",
       "      <td>spotify:track:3qitymULqEibr7yknRMKU4</td>\n",
       "      <td>https://api.spotify.com/v1/tracks/3qitymULqEib...</td>\n",
       "      <td>https://api.spotify.com/v1/audio-analysis/3qit...</td>\n",
       "      <td>248947</td>\n",
       "      <td>4</td>\n",
       "    </tr>\n",
       "    <tr>\n",
       "      <th>2</th>\n",
       "      <td>Queen</td>\n",
       "      <td>A Night At The Opera (2011 Remaster)</td>\n",
       "      <td>0.414</td>\n",
       "      <td>0.404</td>\n",
       "      <td>0</td>\n",
       "      <td>-9.928</td>\n",
       "      <td>0</td>\n",
       "      <td>0.0499</td>\n",
       "      <td>0.271</td>\n",
       "      <td>0.0000</td>\n",
       "      <td>0.3000</td>\n",
       "      <td>0.224</td>\n",
       "      <td>71.105</td>\n",
       "      <td>audio_features</td>\n",
       "      <td>1AhDOtG9vPSOmsWgNW0BEY</td>\n",
       "      <td>spotify:track:1AhDOtG9vPSOmsWgNW0BEY</td>\n",
       "      <td>https://api.spotify.com/v1/tracks/1AhDOtG9vPSO...</td>\n",
       "      <td>https://api.spotify.com/v1/audio-analysis/1AhD...</td>\n",
       "      <td>354320</td>\n",
       "      <td>4</td>\n",
       "    </tr>\n",
       "    <tr>\n",
       "      <th>3</th>\n",
       "      <td>Pink Floyd</td>\n",
       "      <td>The Wall [2011 - Remaster] (2011 Remastered Ve...</td>\n",
       "      <td>0.472</td>\n",
       "      <td>0.366</td>\n",
       "      <td>11</td>\n",
       "      <td>-12.595</td>\n",
       "      <td>0</td>\n",
       "      <td>0.0286</td>\n",
       "      <td>0.150</td>\n",
       "      <td>0.3080</td>\n",
       "      <td>0.0837</td>\n",
       "      <td>0.171</td>\n",
       "      <td>127.167</td>\n",
       "      <td>audio_features</td>\n",
       "      <td>082cLCIXNPg2ruTrENz4Vt</td>\n",
       "      <td>spotify:track:082cLCIXNPg2ruTrENz4Vt</td>\n",
       "      <td>https://api.spotify.com/v1/tracks/082cLCIXNPg2...</td>\n",
       "      <td>https://api.spotify.com/v1/audio-analysis/082c...</td>\n",
       "      <td>382297</td>\n",
       "      <td>4</td>\n",
       "    </tr>\n",
       "    <tr>\n",
       "      <th>4</th>\n",
       "      <td>Bob Dylan</td>\n",
       "      <td>Pat Garrett &amp; Billy The Kid (Soundtrack From T...</td>\n",
       "      <td>0.513</td>\n",
       "      <td>0.396</td>\n",
       "      <td>7</td>\n",
       "      <td>-13.061</td>\n",
       "      <td>1</td>\n",
       "      <td>0.0299</td>\n",
       "      <td>0.251</td>\n",
       "      <td>0.1770</td>\n",
       "      <td>0.1100</td>\n",
       "      <td>0.229</td>\n",
       "      <td>140.208</td>\n",
       "      <td>audio_features</td>\n",
       "      <td>6HSXNV0b4M4cLJ7ljgVVeh</td>\n",
       "      <td>spotify:track:6HSXNV0b4M4cLJ7ljgVVeh</td>\n",
       "      <td>https://api.spotify.com/v1/tracks/6HSXNV0b4M4c...</td>\n",
       "      <td>https://api.spotify.com/v1/audio-analysis/6HSX...</td>\n",
       "      <td>149880</td>\n",
       "      <td>4</td>\n",
       "    </tr>\n",
       "  </tbody>\n",
       "</table>\n",
       "</div>"
      ],
      "text/plain": [
       "         artist                                               song  \\\n",
       "0   John Lennon                                            Imagine   \n",
       "1  Procol Harum                             A Whiter Shade Of Pale   \n",
       "2         Queen               A Night At The Opera (2011 Remaster)   \n",
       "3    Pink Floyd  The Wall [2011 - Remaster] (2011 Remastered Ve...   \n",
       "4     Bob Dylan  Pat Garrett & Billy The Kid (Soundtrack From T...   \n",
       "\n",
       "   danceability  energy  key  loudness  mode  speechiness  acousticness  \\\n",
       "0         0.547   0.257    0   -12.358     1       0.0252         0.907   \n",
       "1         0.249   0.660    0    -6.905     1       0.0342         0.504   \n",
       "2         0.414   0.404    0    -9.928     0       0.0499         0.271   \n",
       "3         0.472   0.366   11   -12.595     0       0.0286         0.150   \n",
       "4         0.513   0.396    7   -13.061     1       0.0299         0.251   \n",
       "\n",
       "   instrumentalness  liveness  valence    tempo            type  \\\n",
       "0            0.1830    0.0935    0.169   75.752  audio_features   \n",
       "1            0.0026    0.0891    0.435  149.813  audio_features   \n",
       "2            0.0000    0.3000    0.224   71.105  audio_features   \n",
       "3            0.3080    0.0837    0.171  127.167  audio_features   \n",
       "4            0.1770    0.1100    0.229  140.208  audio_features   \n",
       "\n",
       "                       id                                   uri  \\\n",
       "0  7pKfPomDEeI4TPT6EOYjn9  spotify:track:7pKfPomDEeI4TPT6EOYjn9   \n",
       "1  3qitymULqEibr7yknRMKU4  spotify:track:3qitymULqEibr7yknRMKU4   \n",
       "2  1AhDOtG9vPSOmsWgNW0BEY  spotify:track:1AhDOtG9vPSOmsWgNW0BEY   \n",
       "3  082cLCIXNPg2ruTrENz4Vt  spotify:track:082cLCIXNPg2ruTrENz4Vt   \n",
       "4  6HSXNV0b4M4cLJ7ljgVVeh  spotify:track:6HSXNV0b4M4cLJ7ljgVVeh   \n",
       "\n",
       "                                          track_href  \\\n",
       "0  https://api.spotify.com/v1/tracks/7pKfPomDEeI4...   \n",
       "1  https://api.spotify.com/v1/tracks/3qitymULqEib...   \n",
       "2  https://api.spotify.com/v1/tracks/1AhDOtG9vPSO...   \n",
       "3  https://api.spotify.com/v1/tracks/082cLCIXNPg2...   \n",
       "4  https://api.spotify.com/v1/tracks/6HSXNV0b4M4c...   \n",
       "\n",
       "                                        analysis_url  duration_ms  \\\n",
       "0  https://api.spotify.com/v1/audio-analysis/7pKf...       187867   \n",
       "1  https://api.spotify.com/v1/audio-analysis/3qit...       248947   \n",
       "2  https://api.spotify.com/v1/audio-analysis/1AhD...       354320   \n",
       "3  https://api.spotify.com/v1/audio-analysis/082c...       382297   \n",
       "4  https://api.spotify.com/v1/audio-analysis/6HSX...       149880   \n",
       "\n",
       "   time_signature  \n",
       "0               4  \n",
       "1               4  \n",
       "2               4  \n",
       "3               4  \n",
       "4               4  "
      ]
     },
     "metadata": {},
     "output_type": "display_data"
    },
    {
     "data": {
      "text/plain": [
       "(6744, 20)"
      ]
     },
     "metadata": {},
     "output_type": "display_data"
    }
   ],
   "source": [
    "display(spotify_df.head())\n",
    "display(spotify_df.shape)"
   ]
  },
  {
   "cell_type": "code",
   "execution_count": null,
   "id": "1b0ba050",
   "metadata": {},
   "outputs": [],
   "source": []
  }
 ],
 "metadata": {
  "kernelspec": {
   "display_name": "Python 3 (ipykernel)",
   "language": "python",
   "name": "python3"
  },
  "language_info": {
   "codemirror_mode": {
    "name": "ipython",
    "version": 3
   },
   "file_extension": ".py",
   "mimetype": "text/x-python",
   "name": "python",
   "nbconvert_exporter": "python",
   "pygments_lexer": "ipython3",
   "version": "3.9.12"
  },
  "toc": {
   "base_numbering": 1,
   "nav_menu": {},
   "number_sections": true,
   "sideBar": true,
   "skip_h1_title": false,
   "title_cell": "Table of Contents",
   "title_sidebar": "Contents",
   "toc_cell": false,
   "toc_position": {},
   "toc_section_display": true,
   "toc_window_display": true
  }
 },
 "nbformat": 4,
 "nbformat_minor": 5
}
