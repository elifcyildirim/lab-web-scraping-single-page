{
 "cells": [
  {
   "cell_type": "markdown",
   "id": "689e42d8",
   "metadata": {},
   "source": [
    "# Scraping a list of top 100 song lists"
   ]
  },
  {
   "cell_type": "code",
   "execution_count": 1,
   "id": "5fabea94",
   "metadata": {},
   "outputs": [],
   "source": [
    "from bs4 import BeautifulSoup\n",
    "\n",
    "import requests # allows us to access information on any page\n",
    "import pandas as pd"
   ]
  },
  {
   "cell_type": "code",
   "execution_count": 2,
   "id": "3742b28f",
   "metadata": {},
   "outputs": [],
   "source": [
    "# find a url and store it in a variable\n",
    "url= 'https://playback.fm/charts/top-100-songs/2015'"
   ]
  },
  {
   "cell_type": "code",
   "execution_count": 3,
   "id": "bf456fce",
   "metadata": {},
   "outputs": [
    {
     "data": {
      "text/plain": [
       "200"
      ]
     },
     "execution_count": 3,
     "metadata": {},
     "output_type": "execute_result"
    }
   ],
   "source": [
    "# download html with a get request\n",
    "response = requests.get(url)\n",
    "response.status_code # 200 status code means OK!"
   ]
  },
  {
   "cell_type": "code",
   "execution_count": null,
   "id": "d5c98720",
   "metadata": {},
   "outputs": [],
   "source": [
    "response.content"
   ]
  },
  {
   "cell_type": "code",
   "execution_count": 5,
   "id": "51d770d6",
   "metadata": {},
   "outputs": [],
   "source": [
    "# parse html (create the 'soup')\n",
    "soup = BeautifulSoup(response.content, \"html.parser\")"
   ]
  },
  {
   "cell_type": "code",
   "execution_count": null,
   "id": "f648bc27",
   "metadata": {},
   "outputs": [],
   "source": [
    "# check that the html code looks like it should\n",
    "soup"
   ]
  },
  {
   "cell_type": "code",
   "execution_count": null,
   "id": "8fdb7d46",
   "metadata": {},
   "outputs": [],
   "source": [
    "#myTable > tbody > tr:nth-child(1) > td.mobile-hide > a > span.song\n",
    "\n",
    "#myTable > tbody > tr:nth-child(5) > td:nth-child(2) > a"
   ]
  },
  {
   "cell_type": "code",
   "execution_count": null,
   "id": "eae69c58",
   "metadata": {},
   "outputs": [],
   "source": [
    "soup.select(\"td.mobile-hide\")"
   ]
  },
  {
   "cell_type": "code",
   "execution_count": null,
   "id": "a80c99d6",
   "metadata": {},
   "outputs": [],
   "source": [
    "soup.select(\"td:nth-child(2) > a\")"
   ]
  },
  {
   "cell_type": "code",
   "execution_count": null,
   "id": "d8d1bf80",
   "metadata": {},
   "outputs": [],
   "source": [
    "print(soup.prettify())"
   ]
  },
  {
   "cell_type": "code",
   "execution_count": 14,
   "id": "98b4fc30",
   "metadata": {},
   "outputs": [
    {
     "data": {
      "text/plain": [
       "<a class=\"artist\" href=\"/artist/mark-ronson-top-songs\" itemprop=\"byArtist\">\n",
       "Mark Ronson featuring Bruno Mars\n",
       "</a>"
      ]
     },
     "execution_count": 14,
     "metadata": {},
     "output_type": "execute_result"
    }
   ],
   "source": [
    "soup.select(\"td:nth-child(2) > a\")[0]"
   ]
  },
  {
   "cell_type": "code",
   "execution_count": 56,
   "id": "b6607e15",
   "metadata": {},
   "outputs": [
    {
     "data": {
      "text/plain": [
       "'\\nMark Ronson featuring Bruno Mars\\n'"
      ]
     },
     "execution_count": 56,
     "metadata": {},
     "output_type": "execute_result"
    }
   ],
   "source": [
    "soup.select(\"td:nth-child(2) > a\")[0].get_text()"
   ]
  },
  {
   "cell_type": "code",
   "execution_count": 58,
   "id": "f6d57e67",
   "metadata": {},
   "outputs": [
    {
     "data": {
      "text/plain": [
       "'Uptown Funk'"
      ]
     },
     "execution_count": 58,
     "metadata": {},
     "output_type": "execute_result"
    }
   ],
   "source": [
    "soup.select(\"td.mobile-hide > a > span.song\")[0].get_text()"
   ]
  },
  {
   "cell_type": "code",
   "execution_count": 59,
   "id": "62c57680",
   "metadata": {},
   "outputs": [
    {
     "name": "stdout",
     "output_type": "stream",
     "text": [
      "['\\nMark Ronson featuring Bruno Mars\\n', '\\nEd Sheeran\\n', '\\nWiz Khalifa featuring Charlie Puth\\n', '\\nFetty Wap\\n', '\\nMaroon 5\\n', '\\nWalk the Moon\\n', '\\nTaylor Swift\\n', '\\nSilentó\\n', '\\nThe Weeknd\\n', '\\nThe Weeknd\\n', '\\nOMI\\n', '\\nThe Weeknd\\n', '\\nEllie Goulding\\n', '\\nHozier\\n', '\\nTaylor Swift featuring Kendrick Lamar\\n', '\\nMajor Lazer and DJ Snake featuring MØ\\n', '\\nJason Derulo\\n', '\\nTaylor Swift\\n', '\\nSkrillex and Diplo featuring Justin Bieber\\n', '\\nRachel Platten\\n', '\\nFetty Wap featuring Remy Boyz\\n', '\\nMeghan Trainor\\n', '\\nFifth Harmony featuring Kid Ink\\n', '\\nOmarion featuring Chris Brown and Jhené Aiko\\n', '\\nAndy Grammer\\n', '\\nSam Smith\\n', '\\nSelena Gomez featuring A$AP Rocky\\n', '\\nMeghan Trainor\\n', '\\nTaylor Swift\\n', '\\nDrake\\n', '\\nDavid Guetta featuring Nicki Minaj, Bebe Rexha, and Afrojack\\n', '\\nFlo Rida featuring Sage the Gemini and Lookas\\n', '\\nJustin Bieber\\n', '\\nEd Sheeran\\n', '\\nAdele\\n', '\\nShawn Mendes\\n', '\\nTove Lo\\n', '\\nNick Jonas\\n', '\\nPitbull and Ne-Yo\\n', '\\nR. City featuring Adam Levine\\n', '\\nNatalie La Rose featuring Jeremih\\n', '\\nRihanna, Kanye West, and Paul McCartney\\n', '\\nFall Out Boy\\n', '\\nFetty Wap featuring Monty\\n', '\\nSam Hunt\\n', '\\nMaroon 5\\n', '\\nBig Sean featuring E-40\\n', '\\nRihanna\\n', '\\nRich Homie Quan\\n', '\\nT-Wayne\\n', '\\nNicki Minaj featuring Drake, Lil Wayne, and Chris Brown\\n', '\\nSia\\n', '\\nDemi Lovato\\n', '\\nX Ambassadors\\n', '\\nUsher featuring Juicy J\\n', '\\nAriana Grande and The Weeknd\\n', '\\nTaylor Swift\\n', '\\nSam Smith\\n', '\\nDJ Snake and AlunaGeorge\\n', '\\nFall Out Boy\\n', '\\nBeyoncé\\n', '\\nSelena Gomez\\n', '\\nLittle Big Town\\n', '\\nTrey Songz\\n', '\\nOne Direction\\n', '\\nNicki Minaj featuring Drake and Lil Wayne\\n', '\\nAriana Grande\\n', '\\nNick Jonas\\n', '\\nMeek Mill featuring Chris Brown and Nicki Minaj\\n', '\\nRae Sremmurd\\n', '\\nVance Joy\\n', '\\nJidenna featuring Roman GianArthur\\n', '\\nElle King\\n', '\\nMeghan Trainor\\n', '\\nCharlie Puth featuring Meghan Trainor\\n', '\\nMeghan Trainor featuring John Legend\\n', '\\nTove Lo\\n', '\\nJames Newton Howard featuring Jennifer Lawrence\\n', '\\nO.T. Genasis\\n', '\\nJessie J, Ariana Grande, and Nicki Minaj\\n', '\\nSam Smith\\n', '\\nILoveMakonnen featuring Drake\\n', '\\niLoveMemphis\\n', '\\nMacklemore and Ryan Lewis featuring Eric Nally, Melle Mel, Kool Moe Dee, and Grandmaster Caz\\n', '\\nSam Hunt\\n', '\\nChris Brown and Tyga\\n', '\\nLuke Bryan\\n', '\\nBig Sean featuring Drake\\n', '\\nGeorge Ezra\\n', '\\nSia\\n', '\\nKelly Clarkson\\n', '\\nEd Sheeran\\n', '\\nElla Henderson\\n', '\\nAlessia Cara\\n', '\\nMr Probz\\n', '\\nNicky Jam and Enrique Iglesias\\n', '\\nNe-Yo featuring Juicy J\\n', '\\nOne Direction\\n', '\\nDrake\\n', '\\nCalvin Harris and Disciples\\n']\n",
      "['Uptown Funk', 'Thinking Out Loud', 'See You Again', 'Trap Queen', 'Sugar', 'Shut Up and Dance', 'Blank Space', 'Watch Me', 'Earned It', 'The Hills', 'Cheerleader', \"Can't Feel My Face\", 'Love Me Like You Do', 'Take Me to Church', 'Bad Blood', 'Lean On', 'Want to Want Me', 'Shake It Off', 'Where Are Ü Now', 'Fight Song', '679', 'Lips Are Movin', 'Worth It', 'Post to Be', \"Honey, I'm Good.\", \"I'm Not the Only One\", 'Good for You', 'All About That Bass', 'Style', 'Hotline Bling', 'Hey Mama', 'G.D.F.R.', 'What Do You Mean?', 'Photograph', 'Hello', 'Stitches', 'Talking Body', 'Jealous', 'Time of Our Lives', 'Locked Away', 'Somebody', 'FourFiveSeconds', 'Centuries', 'My Way', 'Take Your Time', 'Animals', \"I Don't Fuck with You\", 'Bi**h Better Have My Money', 'Flex (Ooh, Ooh, Ooh)', 'Nasty Freestyle', 'Only', 'Elastic Heart', 'Cool for the Summer', 'Renegades', \"I Don't Mind\", 'Love Me Harder', 'Wildest Dreams', 'Stay with Me', 'You Know You Like It', 'Uma Thurman', '7/11/2016', 'The Heart Wants What It Wants', 'Girl Crush', 'Slow Motion', 'Drag Me Down', 'Truffle Butter', 'One Last Time', 'Chains', 'All Eyes on You', 'No Type', 'Riptide', 'Classic Man', \"Ex's & Oh's\", 'Dear Future Husband', 'Marvin Gaye', \"Like I'm Gonna Lose You\", 'Habits (Stay High)', 'The Hanging Tree', 'CoCo', 'Bang Bang', 'Lay Me Down', 'Tuesday', 'Hit the Quan', 'Downtown', 'House Party', 'Ayo', 'Kick the Dust Up', 'Blessings', 'Budapest', 'Chandelier', 'Heartbeat Song', \"Don't\", 'Ghost', 'Here', 'Waves', 'El Perdón', 'She Knows', 'Night Changes', 'Back to Back', 'How Deep Is Your Love']\n"
     ]
    }
   ],
   "source": [
    "#initialize empty lists\n",
    "artist = []\n",
    "song = []\n",
    "\n",
    "# define the number of iterations of our for loop\n",
    "# by checking how many elements are in the retrieved result set\n",
    "# (this is equivalent but more robust than just explicitly defining 250 iterations)\n",
    "num_iter = len(soup.select(\"td:nth-child(2) > a\"))\n",
    "\n",
    "tClist = soup.select(\"td:nth-child(2) > a\")\n",
    "spanlist = soup.select(\"td.mobile-hide > a > span.song\")\n",
    "# iterate through the result set and retrive all the data\n",
    "for i in range(num_iter):\n",
    "    artist.append(tClist[i].get_text())\n",
    "    song.append(spanlist[i].get_text())\n",
    "\n",
    "print(artist)\n",
    "print(song)\n"
   ]
  },
  {
   "cell_type": "code",
   "execution_count": 60,
   "id": "ffc22cff",
   "metadata": {},
   "outputs": [],
   "source": [
    "# each list becomes a column\n",
    "\n",
    "artist_song_df= pd.DataFrame({\"artist\":artist,\"song\":song})"
   ]
  },
  {
   "cell_type": "code",
   "execution_count": 61,
   "id": "7786dd5a",
   "metadata": {},
   "outputs": [
    {
     "data": {
      "text/html": [
       "<div>\n",
       "<style scoped>\n",
       "    .dataframe tbody tr th:only-of-type {\n",
       "        vertical-align: middle;\n",
       "    }\n",
       "\n",
       "    .dataframe tbody tr th {\n",
       "        vertical-align: top;\n",
       "    }\n",
       "\n",
       "    .dataframe thead th {\n",
       "        text-align: right;\n",
       "    }\n",
       "</style>\n",
       "<table border=\"1\" class=\"dataframe\">\n",
       "  <thead>\n",
       "    <tr style=\"text-align: right;\">\n",
       "      <th></th>\n",
       "      <th>artist</th>\n",
       "      <th>song</th>\n",
       "    </tr>\n",
       "  </thead>\n",
       "  <tbody>\n",
       "    <tr>\n",
       "      <th>0</th>\n",
       "      <td>\\nMark Ronson featuring Bruno Mars\\n</td>\n",
       "      <td>Uptown Funk</td>\n",
       "    </tr>\n",
       "    <tr>\n",
       "      <th>1</th>\n",
       "      <td>\\nEd Sheeran\\n</td>\n",
       "      <td>Thinking Out Loud</td>\n",
       "    </tr>\n",
       "    <tr>\n",
       "      <th>2</th>\n",
       "      <td>\\nWiz Khalifa featuring Charlie Puth\\n</td>\n",
       "      <td>See You Again</td>\n",
       "    </tr>\n",
       "    <tr>\n",
       "      <th>3</th>\n",
       "      <td>\\nFetty Wap\\n</td>\n",
       "      <td>Trap Queen</td>\n",
       "    </tr>\n",
       "    <tr>\n",
       "      <th>4</th>\n",
       "      <td>\\nMaroon 5\\n</td>\n",
       "      <td>Sugar</td>\n",
       "    </tr>\n",
       "  </tbody>\n",
       "</table>\n",
       "</div>"
      ],
      "text/plain": [
       "                                   artist               song\n",
       "0    \\nMark Ronson featuring Bruno Mars\\n        Uptown Funk\n",
       "1                          \\nEd Sheeran\\n  Thinking Out Loud\n",
       "2  \\nWiz Khalifa featuring Charlie Puth\\n      See You Again\n",
       "3                           \\nFetty Wap\\n         Trap Queen\n",
       "4                            \\nMaroon 5\\n              Sugar"
      ]
     },
     "execution_count": 61,
     "metadata": {},
     "output_type": "execute_result"
    }
   ],
   "source": [
    "artist_song_df.head()"
   ]
  },
  {
   "cell_type": "code",
   "execution_count": 64,
   "id": "1aa9041b",
   "metadata": {},
   "outputs": [],
   "source": [
    "artist_song_df['artist'] = artist_song_df['artist'].str.replace('\\n', ' ')\n"
   ]
  },
  {
   "cell_type": "code",
   "execution_count": 65,
   "id": "6d70d387",
   "metadata": {},
   "outputs": [
    {
     "data": {
      "text/html": [
       "<div>\n",
       "<style scoped>\n",
       "    .dataframe tbody tr th:only-of-type {\n",
       "        vertical-align: middle;\n",
       "    }\n",
       "\n",
       "    .dataframe tbody tr th {\n",
       "        vertical-align: top;\n",
       "    }\n",
       "\n",
       "    .dataframe thead th {\n",
       "        text-align: right;\n",
       "    }\n",
       "</style>\n",
       "<table border=\"1\" class=\"dataframe\">\n",
       "  <thead>\n",
       "    <tr style=\"text-align: right;\">\n",
       "      <th></th>\n",
       "      <th>artist</th>\n",
       "      <th>song</th>\n",
       "    </tr>\n",
       "  </thead>\n",
       "  <tbody>\n",
       "    <tr>\n",
       "      <th>0</th>\n",
       "      <td>Mark Ronson featuring Bruno Mars</td>\n",
       "      <td>Uptown Funk</td>\n",
       "    </tr>\n",
       "    <tr>\n",
       "      <th>1</th>\n",
       "      <td>Ed Sheeran</td>\n",
       "      <td>Thinking Out Loud</td>\n",
       "    </tr>\n",
       "    <tr>\n",
       "      <th>2</th>\n",
       "      <td>Wiz Khalifa featuring Charlie Puth</td>\n",
       "      <td>See You Again</td>\n",
       "    </tr>\n",
       "    <tr>\n",
       "      <th>3</th>\n",
       "      <td>Fetty Wap</td>\n",
       "      <td>Trap Queen</td>\n",
       "    </tr>\n",
       "    <tr>\n",
       "      <th>4</th>\n",
       "      <td>Maroon 5</td>\n",
       "      <td>Sugar</td>\n",
       "    </tr>\n",
       "  </tbody>\n",
       "</table>\n",
       "</div>"
      ],
      "text/plain": [
       "                                 artist               song\n",
       "0     Mark Ronson featuring Bruno Mars         Uptown Funk\n",
       "1                           Ed Sheeran   Thinking Out Loud\n",
       "2   Wiz Khalifa featuring Charlie Puth       See You Again\n",
       "3                            Fetty Wap          Trap Queen\n",
       "4                             Maroon 5               Sugar"
      ]
     },
     "execution_count": 65,
     "metadata": {},
     "output_type": "execute_result"
    }
   ],
   "source": [
    "artist_song_df.head()"
   ]
  },
  {
   "cell_type": "markdown",
   "id": "afe67012",
   "metadata": {},
   "source": [
    "# Adding 100 more songs to the df by more webscraping"
   ]
  },
  {
   "cell_type": "code",
   "execution_count": 145,
   "id": "22bd3569",
   "metadata": {},
   "outputs": [],
   "source": [
    "# find url and store it in a variable\n",
    "url= 'https://www.popvortex.com/music/charts/top-100-songs.php'"
   ]
  },
  {
   "cell_type": "code",
   "execution_count": 146,
   "id": "acd2be68",
   "metadata": {},
   "outputs": [
    {
     "data": {
      "text/plain": [
       "200"
      ]
     },
     "execution_count": 146,
     "metadata": {},
     "output_type": "execute_result"
    }
   ],
   "source": [
    "# download html with a get request\n",
    "response = requests.get(url)\n",
    "response.status_code # 200 status code means OK!"
   ]
  },
  {
   "cell_type": "code",
   "execution_count": null,
   "id": "4cfd9ad0",
   "metadata": {},
   "outputs": [],
   "source": [
    "#response.content"
   ]
  },
  {
   "cell_type": "code",
   "execution_count": 147,
   "id": "9d60d6df",
   "metadata": {},
   "outputs": [],
   "source": [
    "# parse html (create the 'soup')\n",
    "soup = BeautifulSoup(response.content, \"html.parser\")"
   ]
  },
  {
   "cell_type": "code",
   "execution_count": null,
   "id": "78f67057",
   "metadata": {},
   "outputs": [],
   "source": [
    "# check that the html code looks like it should\n",
    "soup"
   ]
  },
  {
   "cell_type": "code",
   "execution_count": null,
   "id": "e40ac761",
   "metadata": {},
   "outputs": [],
   "source": [
    "#chart-position-6 > div.chart-content.col-xs-12.col-sm-8 > p > cite\n",
    "#chart-position-6 > div.chart-content.col-xs-12.col-sm-8 > p > em"
   ]
  },
  {
   "cell_type": "code",
   "execution_count": null,
   "id": "e01c7146",
   "metadata": {},
   "outputs": [],
   "source": [
    "print(soup.prettify())"
   ]
  },
  {
   "cell_type": "code",
   "execution_count": 158,
   "id": "3f29f840",
   "metadata": {},
   "outputs": [
    {
     "data": {
      "text/plain": [
       "'Unholy'"
      ]
     },
     "execution_count": 158,
     "metadata": {},
     "output_type": "execute_result"
    }
   ],
   "source": [
    "soup.select(\"div.chart-content.col-xs-12.col-sm-8 > p > cite\")[0].get_text()"
   ]
  },
  {
   "cell_type": "code",
   "execution_count": 159,
   "id": "d89df64d",
   "metadata": {},
   "outputs": [
    {
     "data": {
      "text/plain": [
       "'Sam Smith & Kim Petras'"
      ]
     },
     "execution_count": 159,
     "metadata": {},
     "output_type": "execute_result"
    }
   ],
   "source": [
    "soup.select(\"div.chart-content.col-xs-12.col-sm-8 > p > em\")[0].get_text()"
   ]
  },
  {
   "cell_type": "code",
   "execution_count": 160,
   "id": "e71be92d",
   "metadata": {},
   "outputs": [
    {
     "name": "stdout",
     "output_type": "stream",
     "text": [
      "['Unholy', 'Eagle (feat. KB)', 'Everywhere', \"I'm Good (Blue)\", 'wait in the truck', 'A Thousand Years', 'Thank God', 'You Proof', 'Son Of A Sinner', \"I Ain't Worried\", 'Unstoppable', 'CUFF IT', 'Bedroom Singer', 'Left and Right', 'TRUCK BED', 'She Had Me At Heads Carolina', 'Wasted On You', 'here lies country music', 'As It Was', 'The Kind of Love We Make', 'Fall In Love', 'the mockingbird & THE CROW', 'Shallow', 'Under the Influence', 'Celestial', 'Lose Yourself', 'Life Is a Highway', 'Sunroof', 'Love Me Like You Do', 'Shivers', 'Super Freaky Girl', 'High Heels', 'Victoria’s Secret', 'Hold Me Closer', 'I Like You (A Happier Song) [feat. Doja Cat]', 'About Damn Time', 'Running Up That Hill (A Deal with God)', '2 Be Loved (Am I Ready)', 'Numb', 'You, Me, And Whiskey', 'Earned It', \"You'll Be In My Heart\", 'Rock and a Hard Place', 'Next Thing You Know', 'Cold Heart (PNAU Remix)', 'Soul', 'Vegas (From the Original Motion Picture Soundtrack ELVIS)', \"Something in the Orange (Z&E's Version)\", \"STAR WALKIN' (League of Legends Worlds Anthem)\", 'It Will Rain', 'Don’t Come Lookin’', 'What My World Spins Around', 'Always Remember Us This Way', 'Monster Mash', 'This Is Halloween', 'Tennessee Orange', 'Way of the Triune God (Hallelujah Version)', '500 Miles', \"Gangsta's Paradise (feat. L.V.)\", 'Bones', 'Love Me Like I Am', 'CUFF IT', 'Tennessee Whiskey', 'Something in the Orange', 'Late Night Talking', 'Bad Habit', 'Forever', 'How Do I Say Goodbye', '5 Foot 9', \"World's Smallest Violin\", 'Narco', 'Joy of My Life', 'Forget Me', 'Never Leave', 'Tití Me Preguntó', 'Take Me Home, Country Roads', 'Glimpse of Us', 'Hold My Hand', 'Half Of Me (feat. Riley Green)', 'Say My Name', 'Perfectly Loved (feat. TobyMac)', 'Country On', \"I'm Good (Blue)\", 'One Way or Another (Hocus Pocus 2 Version)', 'Over For You (Live in Melbourne)', 'God Is In This Story', \"'Til You Can't\", 'She Likes It (feat. Jake Scott)', 'No Se Va (En Vivo)', 'Tomorrow 2', 'CASE 143', 'Beer With My Friends', 'Fancy Like', 'Betty (Get Money)', 'Boulevard of Broken Dreams (feat. John Gallagher Jr., Rebecca Naomi Jones, Stark Sands & Company)', 'Ghostbusters', 'The Joke', 'The Witches Are Back', \"We Don't Talk About Bruno\", \"How Far I'll Go\"]\n",
      "['Sam Smith & Kim Petras', 'Transformation Worship', 'Fleetwood Mac', 'David Guetta & Bebe Rexha', 'HARDY & Lainey Wilson', 'Christina Perri', 'Kane Brown & Katelyn Brown', 'Morgan Wallen', 'Jelly Roll', 'OneRepublic', 'Sia', 'Beyoncé', 'J.Fla', 'Charlie Puth & Jung Kook', 'HARDY', 'Cole Swindell', 'Morgan Wallen', 'HARDY', 'Harry Styles', 'Luke Combs', 'Bailey Zimmerman', 'HARDY', 'Lady Gaga & Bradley Cooper', 'Chris Brown', 'Ed Sheeran', 'Eminem', 'Rascal Flatts', 'Nicky Youre & Dazy', 'Ellie Goulding', 'Ed Sheeran', 'Nicki Minaj', 'Flo Rida & Walker Hayes', 'Jax', 'Elton John & Britney Spears', 'Post Malone', 'Lizzo', 'Kate Bush', 'Lizzo', 'Marshmello & Khalid', 'Justin Moore & Priscilla Block', 'The Weeknd', 'Phil Collins', 'Bailey Zimmerman', 'Jordan Davis', 'Elton John & Dua Lipa', 'Lee Brice', 'Doja Cat', 'Zach Bryan', 'Lil Nas X', 'Bruno Mars', 'Jackson Dean', 'Jordan Davis', 'Lady Gaga', 'Bobby \"Boris\" Pickett & The Crypt-Kickers', 'The Citizens of Halloween', 'Megan Moroney', 'Tyler Childers', 'Rosanne Cash', 'Coolio', 'Imagine Dragons', 'for KING & COUNTRY & Jordin Sparks', 'Beyoncé', 'Chris Stapleton', 'Zach Bryan', 'Harry Styles', 'Steve Lacy', 'Drake, Kanye West, Lil Wayne & Eminem', 'Dean Lewis', 'Tyler Hubbard', 'AJR', 'Blasterjaxx & Timmy Trumpet', 'Chris Stapleton', 'Lewis Capaldi', 'Bailey Zimmerman', 'Bad Bunny', 'John Denver', 'Joji', 'Lady Gaga', 'Thomas Rhett', 'ATEEZ', 'Rachael Lampa', 'Luke Bryan', 'David Guetta & Bebe Rexha', 'Bette Midler, Sarah Jessica Parker & Kathy Najimy', 'Morgan Evans', 'Katy Nichole & Big Daddy Weave', 'Cody Johnson', 'Russell Dickerson & Jake Scott', 'Grupo Frontera', 'GloRilla & Cardi B', 'Stray Kids', 'Kenny Chesney & Old Dominion', 'Walker Hayes', 'Yung Gravy', 'Green Day', 'Ray Parker Jr.', 'Brandi Carlile', 'Bette Midler, Sarah Jessica Parker & Kathy Najimy', 'Carolina Gaitán - La Gaita, Mauro Castillo, Adassa, Rhenzy Feliz, Diane Guerrero, Stephanie Beatriz & Encanto - Cast', \"Auli'i Cravalho\"]\n"
     ]
    }
   ],
   "source": [
    "#initialize empty lists\n",
    "artist = []\n",
    "song = []\n",
    "\n",
    "# define the number of iterations of our for loop\n",
    "# by checking how many elements are in the retrieved result set\n",
    "# (this is equivalent but more robust than just explicitly defining 250 iterations)\n",
    "num_iter = len(soup.select(\"div.chart-content.col-xs-12.col-sm-8 > p > cite\"))\n",
    "\n",
    "artist_list = soup.select(\"div.chart-content.col-xs-12.col-sm-8 > p > cite\")\n",
    "song_list = soup.select(\"div.chart-content.col-xs-12.col-sm-8 > p > em\")\n",
    "# iterate through the result set and retrive all the data\n",
    "for i in range(num_iter):\n",
    "    artist.append(artist_list[i].get_text())\n",
    "    song.append(song_list[i].get_text())\n",
    "\n",
    "print(artist)\n",
    "print(song)\n"
   ]
  },
  {
   "cell_type": "code",
   "execution_count": 161,
   "id": "4ffff7bc",
   "metadata": {},
   "outputs": [],
   "source": [
    "# each list becomes a column\n",
    "\n",
    "artist_song_df_2= pd.DataFrame({\"artist\":artist,\"song\":song})"
   ]
  },
  {
   "cell_type": "code",
   "execution_count": 162,
   "id": "bc0ee62c",
   "metadata": {},
   "outputs": [
    {
     "data": {
      "text/html": [
       "<div>\n",
       "<style scoped>\n",
       "    .dataframe tbody tr th:only-of-type {\n",
       "        vertical-align: middle;\n",
       "    }\n",
       "\n",
       "    .dataframe tbody tr th {\n",
       "        vertical-align: top;\n",
       "    }\n",
       "\n",
       "    .dataframe thead th {\n",
       "        text-align: right;\n",
       "    }\n",
       "</style>\n",
       "<table border=\"1\" class=\"dataframe\">\n",
       "  <thead>\n",
       "    <tr style=\"text-align: right;\">\n",
       "      <th></th>\n",
       "      <th>artist</th>\n",
       "      <th>song</th>\n",
       "    </tr>\n",
       "  </thead>\n",
       "  <tbody>\n",
       "    <tr>\n",
       "      <th>0</th>\n",
       "      <td>Unholy</td>\n",
       "      <td>Sam Smith &amp; Kim Petras</td>\n",
       "    </tr>\n",
       "    <tr>\n",
       "      <th>1</th>\n",
       "      <td>Eagle (feat. KB)</td>\n",
       "      <td>Transformation Worship</td>\n",
       "    </tr>\n",
       "    <tr>\n",
       "      <th>2</th>\n",
       "      <td>Everywhere</td>\n",
       "      <td>Fleetwood Mac</td>\n",
       "    </tr>\n",
       "    <tr>\n",
       "      <th>3</th>\n",
       "      <td>I'm Good (Blue)</td>\n",
       "      <td>David Guetta &amp; Bebe Rexha</td>\n",
       "    </tr>\n",
       "    <tr>\n",
       "      <th>4</th>\n",
       "      <td>wait in the truck</td>\n",
       "      <td>HARDY &amp; Lainey Wilson</td>\n",
       "    </tr>\n",
       "  </tbody>\n",
       "</table>\n",
       "</div>"
      ],
      "text/plain": [
       "              artist                       song\n",
       "0             Unholy     Sam Smith & Kim Petras\n",
       "1   Eagle (feat. KB)     Transformation Worship\n",
       "2         Everywhere              Fleetwood Mac\n",
       "3    I'm Good (Blue)  David Guetta & Bebe Rexha\n",
       "4  wait in the truck      HARDY & Lainey Wilson"
      ]
     },
     "execution_count": 162,
     "metadata": {},
     "output_type": "execute_result"
    }
   ],
   "source": [
    "artist_song_df_2.head()"
   ]
  },
  {
   "cell_type": "code",
   "execution_count": 165,
   "id": "c9df5579",
   "metadata": {},
   "outputs": [],
   "source": [
    "# concatenate with the first df\n",
    "music_df = pd.concat([artist_song_df, artist_song_df_2], axis=0)\n",
    "music_df=music_df.reset_index(drop=True)"
   ]
  },
  {
   "cell_type": "code",
   "execution_count": 166,
   "id": "f1eb920e",
   "metadata": {},
   "outputs": [
    {
     "data": {
      "text/html": [
       "<div>\n",
       "<style scoped>\n",
       "    .dataframe tbody tr th:only-of-type {\n",
       "        vertical-align: middle;\n",
       "    }\n",
       "\n",
       "    .dataframe tbody tr th {\n",
       "        vertical-align: top;\n",
       "    }\n",
       "\n",
       "    .dataframe thead th {\n",
       "        text-align: right;\n",
       "    }\n",
       "</style>\n",
       "<table border=\"1\" class=\"dataframe\">\n",
       "  <thead>\n",
       "    <tr style=\"text-align: right;\">\n",
       "      <th></th>\n",
       "      <th>artist</th>\n",
       "      <th>song</th>\n",
       "    </tr>\n",
       "  </thead>\n",
       "  <tbody>\n",
       "    <tr>\n",
       "      <th>0</th>\n",
       "      <td>Mark Ronson featuring Bruno Mars</td>\n",
       "      <td>Uptown Funk</td>\n",
       "    </tr>\n",
       "    <tr>\n",
       "      <th>1</th>\n",
       "      <td>Ed Sheeran</td>\n",
       "      <td>Thinking Out Loud</td>\n",
       "    </tr>\n",
       "    <tr>\n",
       "      <th>2</th>\n",
       "      <td>Wiz Khalifa featuring Charlie Puth</td>\n",
       "      <td>See You Again</td>\n",
       "    </tr>\n",
       "    <tr>\n",
       "      <th>3</th>\n",
       "      <td>Fetty Wap</td>\n",
       "      <td>Trap Queen</td>\n",
       "    </tr>\n",
       "    <tr>\n",
       "      <th>4</th>\n",
       "      <td>Maroon 5</td>\n",
       "      <td>Sugar</td>\n",
       "    </tr>\n",
       "  </tbody>\n",
       "</table>\n",
       "</div>"
      ],
      "text/plain": [
       "                                 artist               song\n",
       "0     Mark Ronson featuring Bruno Mars         Uptown Funk\n",
       "1                           Ed Sheeran   Thinking Out Loud\n",
       "2   Wiz Khalifa featuring Charlie Puth       See You Again\n",
       "3                            Fetty Wap          Trap Queen\n",
       "4                             Maroon 5               Sugar"
      ]
     },
     "execution_count": 166,
     "metadata": {},
     "output_type": "execute_result"
    }
   ],
   "source": [
    "music_df.head()"
   ]
  },
  {
   "cell_type": "code",
   "execution_count": 167,
   "id": "9ad6422d",
   "metadata": {},
   "outputs": [
    {
     "data": {
      "text/plain": [
       "(200, 2)"
      ]
     },
     "execution_count": 167,
     "metadata": {},
     "output_type": "execute_result"
    }
   ],
   "source": [
    "music_df.shape"
   ]
  },
  {
   "cell_type": "code",
   "execution_count": null,
   "id": "ab32c1f2",
   "metadata": {},
   "outputs": [],
   "source": []
  },
  {
   "cell_type": "markdown",
   "id": "03ff6b66",
   "metadata": {},
   "source": [
    "# Song recommendation"
   ]
  },
  {
   "cell_type": "code",
   "execution_count": 117,
   "id": "6d75c82c",
   "metadata": {},
   "outputs": [],
   "source": [
    "import random"
   ]
  },
  {
   "cell_type": "code",
   "execution_count": 141,
   "id": "a544e936",
   "metadata": {},
   "outputs": [],
   "source": [
    "secure_random = random.SystemRandom()"
   ]
  },
  {
   "cell_type": "code",
   "execution_count": 143,
   "id": "4a38b5b8",
   "metadata": {},
   "outputs": [
    {
     "name": "stdout",
     "output_type": "stream",
     "text": [
      "One of my favorite songs is: Trap Queen\n"
     ]
    }
   ],
   "source": [
    "favorite_song = input(\"One of my favorite songs is: \")\n",
    "#print(favorite_song)"
   ]
  },
  {
   "cell_type": "code",
   "execution_count": null,
   "id": "4d507a9a",
   "metadata": {},
   "outputs": [],
   "source": [
    "#print(favorite_song)\n",
    "# artist_song_df[(artist_song_df['song'].isin(['']))]\n",
    "# len(artist_song_df[(artist_song_df['song'].isin(['Shake It Off']))])"
   ]
  },
  {
   "cell_type": "code",
   "execution_count": 144,
   "id": "06f9763c",
   "metadata": {},
   "outputs": [
    {
     "name": "stdout",
     "output_type": "stream",
     "text": [
      "Our song recommendation is:  Elastic Heart\n"
     ]
    }
   ],
   "source": [
    "if len(music_df[(music_df['song'].isin([favorite_song]))])>0:\n",
    "    print(\"Our song recommendation is: \", secure_random.choice(music_df['song'])) \n",
    "else:\n",
    "    print(\"We are sorry that we do not have a song recommendation for you now.\")"
   ]
  }
 ],
 "metadata": {
  "kernelspec": {
   "display_name": "Python 3 (ipykernel)",
   "language": "python",
   "name": "python3"
  },
  "language_info": {
   "codemirror_mode": {
    "name": "ipython",
    "version": 3
   },
   "file_extension": ".py",
   "mimetype": "text/x-python",
   "name": "python",
   "nbconvert_exporter": "python",
   "pygments_lexer": "ipython3",
   "version": "3.9.12"
  },
  "toc": {
   "base_numbering": 1,
   "nav_menu": {},
   "number_sections": true,
   "sideBar": true,
   "skip_h1_title": false,
   "title_cell": "Table of Contents",
   "title_sidebar": "Contents",
   "toc_cell": false,
   "toc_position": {},
   "toc_section_display": true,
   "toc_window_display": false
  }
 },
 "nbformat": 4,
 "nbformat_minor": 5
}
